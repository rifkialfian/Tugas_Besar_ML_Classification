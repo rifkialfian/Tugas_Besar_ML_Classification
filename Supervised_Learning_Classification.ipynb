{
  "nbformat": 4,
  "nbformat_minor": 0,
  "metadata": {
    "colab": {
      "name": "Supervised_Learning-Classification.ipynb",
      "provenance": [],
      "collapsed_sections": [
        "KHzfjpW1Y4Y6",
        "ZWN5Gt5OYcl-",
        "hTXa465uiu08",
        "6tNE3DE0lVdZ",
        "-MH_-7m53fkT"
      ]
    },
    "kernelspec": {
      "name": "python3",
      "display_name": "Python 3"
    },
    "language_info": {
      "name": "python"
    }
  },
  "cells": [
    {
      "cell_type": "markdown",
      "metadata": {
        "id": "jShDw92ZkYhX"
      },
      "source": [
        "##Tugas Besar Pembelajaran Mesin Tahap 2\n",
        "\n",
        "1. Nama : Achmad Salim Aiman<br>\n",
        "   NIM  : 1301184045<br>\n",
        "   <br>\n",
        "2. Nama : Rifki Alfian Abdi Malik<br>\n",
        "   NIM : 1301184197"
      ]
    },
    {
      "cell_type": "markdown",
      "metadata": {
        "id": "ddcE3p6005lh"
      },
      "source": [
        "## Import Library\n"
      ]
    },
    {
      "cell_type": "code",
      "metadata": {
        "id": "kPfB92bG2YeJ"
      },
      "source": [
        "import pandas as pd\n",
        "import matplotlib.pyplot as plt\n",
        "import numpy as np\n",
        "import seaborn as sns\n",
        "import random\n",
        "from sklearn.preprocessing import LabelEncoder\n",
        "import io\n",
        "import requests"
      ],
      "execution_count": 139,
      "outputs": []
    },
    {
      "cell_type": "markdown",
      "metadata": {
        "id": "iiFgLE4R0qA_"
      },
      "source": [
        "##Load Dataset"
      ]
    },
    {
      "cell_type": "code",
      "metadata": {
        "id": "rIcRPg3E0Sly"
      },
      "source": [
        "url1 = \"https://raw.githubusercontent.com/salimaiman/datascience/main/salju_test.csv\"\n",
        "url2 = \"https://raw.githubusercontent.com/rifkialfian/Tugas_Besar_ML_Classification/main/salju_train.csv\"\n",
        "\n",
        "data_test = pd.read_csv(url1)\n",
        "data_train = pd.read_csv(url2)"
      ],
      "execution_count": 140,
      "outputs": []
    },
    {
      "cell_type": "code",
      "metadata": {
        "id": "E4IVn5AT26uK",
        "colab": {
          "base_uri": "https://localhost:8080/",
          "height": 224
        },
        "outputId": "f984c692-269f-4eb2-b66c-26fcc4de4e04"
      },
      "source": [
        "data_train.head()"
      ],
      "execution_count": 141,
      "outputs": [
        {
          "output_type": "execute_result",
          "data": {
            "text/html": [
              "<div>\n",
              "<style scoped>\n",
              "    .dataframe tbody tr th:only-of-type {\n",
              "        vertical-align: middle;\n",
              "    }\n",
              "\n",
              "    .dataframe tbody tr th {\n",
              "        vertical-align: top;\n",
              "    }\n",
              "\n",
              "    .dataframe thead th {\n",
              "        text-align: right;\n",
              "    }\n",
              "</style>\n",
              "<table border=\"1\" class=\"dataframe\">\n",
              "  <thead>\n",
              "    <tr style=\"text-align: right;\">\n",
              "      <th></th>\n",
              "      <th>id</th>\n",
              "      <th>Tanggal</th>\n",
              "      <th>KodeLokasi</th>\n",
              "      <th>SuhuMin</th>\n",
              "      <th>SuhuMax</th>\n",
              "      <th>Hujan</th>\n",
              "      <th>Penguapan</th>\n",
              "      <th>SinarMatahari</th>\n",
              "      <th>ArahAnginTerkencang</th>\n",
              "      <th>KecepatanAnginTerkencang</th>\n",
              "      <th>ArahAngin9am</th>\n",
              "      <th>ArahAngin3pm</th>\n",
              "      <th>KecepatanAngin9am</th>\n",
              "      <th>KecepatanAngin3pm</th>\n",
              "      <th>Kelembaban9am</th>\n",
              "      <th>Kelembaban3pm</th>\n",
              "      <th>Tekanan9am</th>\n",
              "      <th>Tekanan3pm</th>\n",
              "      <th>Awan9am</th>\n",
              "      <th>Awan3pm</th>\n",
              "      <th>Suhu9am</th>\n",
              "      <th>Suhu3pm</th>\n",
              "      <th>BersaljuHariIni</th>\n",
              "      <th>BersaljuBesok</th>\n",
              "    </tr>\n",
              "  </thead>\n",
              "  <tbody>\n",
              "    <tr>\n",
              "      <th>0</th>\n",
              "      <td>1</td>\n",
              "      <td>01/06/2014</td>\n",
              "      <td>C4</td>\n",
              "      <td>10.4</td>\n",
              "      <td>15.5</td>\n",
              "      <td>4.8</td>\n",
              "      <td>NaN</td>\n",
              "      <td>NaN</td>\n",
              "      <td>WSW</td>\n",
              "      <td>24.0</td>\n",
              "      <td>NaN</td>\n",
              "      <td>WSW</td>\n",
              "      <td>0.0</td>\n",
              "      <td>13.0</td>\n",
              "      <td>78.0</td>\n",
              "      <td>76.0</td>\n",
              "      <td>1020.1</td>\n",
              "      <td>1018.5</td>\n",
              "      <td>NaN</td>\n",
              "      <td>NaN</td>\n",
              "      <td>13.1</td>\n",
              "      <td>15.0</td>\n",
              "      <td>Ya</td>\n",
              "      <td>Tidak</td>\n",
              "    </tr>\n",
              "    <tr>\n",
              "      <th>1</th>\n",
              "      <td>2</td>\n",
              "      <td>15/07/2014</td>\n",
              "      <td>C10</td>\n",
              "      <td>9.0</td>\n",
              "      <td>17.0</td>\n",
              "      <td>8.0</td>\n",
              "      <td>2.6</td>\n",
              "      <td>7.4</td>\n",
              "      <td>NaN</td>\n",
              "      <td>NaN</td>\n",
              "      <td>SW</td>\n",
              "      <td>WNW</td>\n",
              "      <td>13.0</td>\n",
              "      <td>20.0</td>\n",
              "      <td>80.0</td>\n",
              "      <td>61.0</td>\n",
              "      <td>1015.2</td>\n",
              "      <td>1014.6</td>\n",
              "      <td>7.0</td>\n",
              "      <td>5.0</td>\n",
              "      <td>11.9</td>\n",
              "      <td>15.5</td>\n",
              "      <td>Ya</td>\n",
              "      <td>Ya</td>\n",
              "    </tr>\n",
              "    <tr>\n",
              "      <th>2</th>\n",
              "      <td>3</td>\n",
              "      <td>16/02/2011</td>\n",
              "      <td>C46</td>\n",
              "      <td>18.2</td>\n",
              "      <td>32.0</td>\n",
              "      <td>0.0</td>\n",
              "      <td>NaN</td>\n",
              "      <td>NaN</td>\n",
              "      <td>ESE</td>\n",
              "      <td>44.0</td>\n",
              "      <td>SE</td>\n",
              "      <td>SE</td>\n",
              "      <td>15.0</td>\n",
              "      <td>26.0</td>\n",
              "      <td>62.0</td>\n",
              "      <td>42.0</td>\n",
              "      <td>NaN</td>\n",
              "      <td>NaN</td>\n",
              "      <td>NaN</td>\n",
              "      <td>NaN</td>\n",
              "      <td>23.8</td>\n",
              "      <td>29.6</td>\n",
              "      <td>Tidak</td>\n",
              "      <td>Tidak</td>\n",
              "    </tr>\n",
              "    <tr>\n",
              "      <th>3</th>\n",
              "      <td>4</td>\n",
              "      <td>08/08/2012</td>\n",
              "      <td>C36</td>\n",
              "      <td>7.3</td>\n",
              "      <td>24.5</td>\n",
              "      <td>0.0</td>\n",
              "      <td>8.4</td>\n",
              "      <td>10.4</td>\n",
              "      <td>SSW</td>\n",
              "      <td>54.0</td>\n",
              "      <td>N</td>\n",
              "      <td>SW</td>\n",
              "      <td>13.0</td>\n",
              "      <td>19.0</td>\n",
              "      <td>25.0</td>\n",
              "      <td>17.0</td>\n",
              "      <td>1019.2</td>\n",
              "      <td>1016.9</td>\n",
              "      <td>1.0</td>\n",
              "      <td>7.0</td>\n",
              "      <td>15.3</td>\n",
              "      <td>23.2</td>\n",
              "      <td>Tidak</td>\n",
              "      <td>Tidak</td>\n",
              "    </tr>\n",
              "    <tr>\n",
              "      <th>4</th>\n",
              "      <td>5</td>\n",
              "      <td>29/10/2016</td>\n",
              "      <td>C7</td>\n",
              "      <td>5.9</td>\n",
              "      <td>20.3</td>\n",
              "      <td>0.0</td>\n",
              "      <td>3.6</td>\n",
              "      <td>12.6</td>\n",
              "      <td>N</td>\n",
              "      <td>37.0</td>\n",
              "      <td>NNW</td>\n",
              "      <td>ESE</td>\n",
              "      <td>22.0</td>\n",
              "      <td>19.0</td>\n",
              "      <td>55.0</td>\n",
              "      <td>48.0</td>\n",
              "      <td>1019.7</td>\n",
              "      <td>1014.7</td>\n",
              "      <td>2.0</td>\n",
              "      <td>6.0</td>\n",
              "      <td>12.4</td>\n",
              "      <td>18.1</td>\n",
              "      <td>Tidak</td>\n",
              "      <td>Tidak</td>\n",
              "    </tr>\n",
              "  </tbody>\n",
              "</table>\n",
              "</div>"
            ],
            "text/plain": [
              "   id     Tanggal KodeLokasi  ...  Suhu3pm  BersaljuHariIni  BersaljuBesok\n",
              "0   1  01/06/2014         C4  ...     15.0               Ya          Tidak\n",
              "1   2  15/07/2014        C10  ...     15.5               Ya             Ya\n",
              "2   3  16/02/2011        C46  ...     29.6            Tidak          Tidak\n",
              "3   4  08/08/2012        C36  ...     23.2            Tidak          Tidak\n",
              "4   5  29/10/2016         C7  ...     18.1            Tidak          Tidak\n",
              "\n",
              "[5 rows x 24 columns]"
            ]
          },
          "metadata": {
            "tags": []
          },
          "execution_count": 141
        }
      ]
    },
    {
      "cell_type": "code",
      "metadata": {
        "id": "Bqz9aJGY25IY",
        "colab": {
          "base_uri": "https://localhost:8080/",
          "height": 224
        },
        "outputId": "eeea4576-32f3-421e-bd56-f6ed4950e624"
      },
      "source": [
        "data_test.head()"
      ],
      "execution_count": 142,
      "outputs": [
        {
          "output_type": "execute_result",
          "data": {
            "text/html": [
              "<div>\n",
              "<style scoped>\n",
              "    .dataframe tbody tr th:only-of-type {\n",
              "        vertical-align: middle;\n",
              "    }\n",
              "\n",
              "    .dataframe tbody tr th {\n",
              "        vertical-align: top;\n",
              "    }\n",
              "\n",
              "    .dataframe thead th {\n",
              "        text-align: right;\n",
              "    }\n",
              "</style>\n",
              "<table border=\"1\" class=\"dataframe\">\n",
              "  <thead>\n",
              "    <tr style=\"text-align: right;\">\n",
              "      <th></th>\n",
              "      <th>Tanggal</th>\n",
              "      <th>KodeLokasi</th>\n",
              "      <th>SuhuMin</th>\n",
              "      <th>SuhuMax</th>\n",
              "      <th>Hujan</th>\n",
              "      <th>Penguapan</th>\n",
              "      <th>SinarMatahari</th>\n",
              "      <th>ArahAnginTerkencang</th>\n",
              "      <th>KecepatanAnginTerkencang</th>\n",
              "      <th>ArahAngin9am</th>\n",
              "      <th>ArahAngin3pm</th>\n",
              "      <th>KecepatanAngin9am</th>\n",
              "      <th>KecepatanAngin3pm</th>\n",
              "      <th>Kelembaban9am</th>\n",
              "      <th>Kelembaban3pm</th>\n",
              "      <th>Tekanan9am</th>\n",
              "      <th>Tekanan3pm</th>\n",
              "      <th>Awan9am</th>\n",
              "      <th>Awan3pm</th>\n",
              "      <th>Suhu9am</th>\n",
              "      <th>Suhu3pm</th>\n",
              "      <th>BersaljuHariIni</th>\n",
              "      <th>BersaljuBesok</th>\n",
              "    </tr>\n",
              "  </thead>\n",
              "  <tbody>\n",
              "    <tr>\n",
              "      <th>0</th>\n",
              "      <td>04/11/2010</td>\n",
              "      <td>C39</td>\n",
              "      <td>11.0</td>\n",
              "      <td>27.5</td>\n",
              "      <td>0.0</td>\n",
              "      <td>NaN</td>\n",
              "      <td>6.4</td>\n",
              "      <td>WSW</td>\n",
              "      <td>46.0</td>\n",
              "      <td>W</td>\n",
              "      <td>W</td>\n",
              "      <td>20.0</td>\n",
              "      <td>28.0</td>\n",
              "      <td>39.0</td>\n",
              "      <td>56.0</td>\n",
              "      <td>1013.0</td>\n",
              "      <td>1012.4</td>\n",
              "      <td>4.0</td>\n",
              "      <td>7.0</td>\n",
              "      <td>25.7</td>\n",
              "      <td>23.6</td>\n",
              "      <td>No</td>\n",
              "      <td>No</td>\n",
              "    </tr>\n",
              "    <tr>\n",
              "      <th>1</th>\n",
              "      <td>26/03/2015</td>\n",
              "      <td>C35</td>\n",
              "      <td>10.0</td>\n",
              "      <td>19.9</td>\n",
              "      <td>0.2</td>\n",
              "      <td>NaN</td>\n",
              "      <td>NaN</td>\n",
              "      <td>WNW</td>\n",
              "      <td>56.0</td>\n",
              "      <td>W</td>\n",
              "      <td>NW</td>\n",
              "      <td>24.0</td>\n",
              "      <td>33.0</td>\n",
              "      <td>76.0</td>\n",
              "      <td>32.0</td>\n",
              "      <td>1017.0</td>\n",
              "      <td>1015.2</td>\n",
              "      <td>8.0</td>\n",
              "      <td>1.0</td>\n",
              "      <td>10.7</td>\n",
              "      <td>18.9</td>\n",
              "      <td>No</td>\n",
              "      <td>Yes</td>\n",
              "    </tr>\n",
              "    <tr>\n",
              "      <th>2</th>\n",
              "      <td>22/03/2016</td>\n",
              "      <td>C18</td>\n",
              "      <td>9.2</td>\n",
              "      <td>27.2</td>\n",
              "      <td>0.0</td>\n",
              "      <td>5.2</td>\n",
              "      <td>10.4</td>\n",
              "      <td>SSW</td>\n",
              "      <td>33.0</td>\n",
              "      <td>NE</td>\n",
              "      <td>N</td>\n",
              "      <td>13.0</td>\n",
              "      <td>19.0</td>\n",
              "      <td>89.0</td>\n",
              "      <td>27.0</td>\n",
              "      <td>1018.6</td>\n",
              "      <td>1015.7</td>\n",
              "      <td>0.0</td>\n",
              "      <td>1.0</td>\n",
              "      <td>13.9</td>\n",
              "      <td>26.3</td>\n",
              "      <td>No</td>\n",
              "      <td>No</td>\n",
              "    </tr>\n",
              "    <tr>\n",
              "      <th>3</th>\n",
              "      <td>09/12/2011</td>\n",
              "      <td>C31</td>\n",
              "      <td>17.7</td>\n",
              "      <td>27.0</td>\n",
              "      <td>0.0</td>\n",
              "      <td>4.6</td>\n",
              "      <td>6.7</td>\n",
              "      <td>SW</td>\n",
              "      <td>35.0</td>\n",
              "      <td>E</td>\n",
              "      <td>SSE</td>\n",
              "      <td>20.0</td>\n",
              "      <td>15.0</td>\n",
              "      <td>55.0</td>\n",
              "      <td>41.0</td>\n",
              "      <td>1010.2</td>\n",
              "      <td>1008.6</td>\n",
              "      <td>7.0</td>\n",
              "      <td>6.0</td>\n",
              "      <td>22.3</td>\n",
              "      <td>26.4</td>\n",
              "      <td>No</td>\n",
              "      <td>No</td>\n",
              "    </tr>\n",
              "    <tr>\n",
              "      <th>4</th>\n",
              "      <td>20/05/2017</td>\n",
              "      <td>C14</td>\n",
              "      <td>2.3</td>\n",
              "      <td>7.9</td>\n",
              "      <td>88.0</td>\n",
              "      <td>NaN</td>\n",
              "      <td>NaN</td>\n",
              "      <td>NW</td>\n",
              "      <td>46.0</td>\n",
              "      <td>W</td>\n",
              "      <td>WNW</td>\n",
              "      <td>13.0</td>\n",
              "      <td>9.0</td>\n",
              "      <td>98.0</td>\n",
              "      <td>95.0</td>\n",
              "      <td>NaN</td>\n",
              "      <td>NaN</td>\n",
              "      <td>NaN</td>\n",
              "      <td>NaN</td>\n",
              "      <td>4.4</td>\n",
              "      <td>6.0</td>\n",
              "      <td>Yes</td>\n",
              "      <td>No</td>\n",
              "    </tr>\n",
              "  </tbody>\n",
              "</table>\n",
              "</div>"
            ],
            "text/plain": [
              "      Tanggal KodeLokasi  SuhuMin  ...  Suhu3pm  BersaljuHariIni  BersaljuBesok\n",
              "0  04/11/2010        C39     11.0  ...     23.6               No             No\n",
              "1  26/03/2015        C35     10.0  ...     18.9               No            Yes\n",
              "2  22/03/2016        C18      9.2  ...     26.3               No             No\n",
              "3  09/12/2011        C31     17.7  ...     26.4               No             No\n",
              "4  20/05/2017        C14      2.3  ...      6.0              Yes             No\n",
              "\n",
              "[5 rows x 23 columns]"
            ]
          },
          "metadata": {
            "tags": []
          },
          "execution_count": 142
        }
      ]
    },
    {
      "cell_type": "markdown",
      "metadata": {
        "id": "_t_Q75-rUstW"
      },
      "source": [
        "##Tahap Eksplorasi"
      ]
    },
    {
      "cell_type": "markdown",
      "metadata": {
        "id": "hNO8xBS8Uzl-"
      },
      "source": [
        "###Dimensi"
      ]
    },
    {
      "cell_type": "code",
      "metadata": {
        "id": "_omnUpolUsVa",
        "colab": {
          "base_uri": "https://localhost:8080/"
        },
        "outputId": "c5649552-ad0a-4eda-bdb3-809f3ed10efc"
      },
      "source": [
        "# Cek baris dan kolom data train\n",
        "data_train.shape"
      ],
      "execution_count": 143,
      "outputs": [
        {
          "output_type": "execute_result",
          "data": {
            "text/plain": [
              "(109095, 24)"
            ]
          },
          "metadata": {
            "tags": []
          },
          "execution_count": 143
        }
      ]
    },
    {
      "cell_type": "code",
      "metadata": {
        "id": "E8JP8cCIW8JC",
        "colab": {
          "base_uri": "https://localhost:8080/"
        },
        "outputId": "6b8d4312-2506-427b-835a-d40c7fef6968"
      },
      "source": [
        "# Cek baris dan kolom data test\n",
        "data_test.shape"
      ],
      "execution_count": 144,
      "outputs": [
        {
          "output_type": "execute_result",
          "data": {
            "text/plain": [
              "(18182, 23)"
            ]
          },
          "metadata": {
            "tags": []
          },
          "execution_count": 144
        }
      ]
    },
    {
      "cell_type": "markdown",
      "metadata": {
        "id": "2p4GjKd1DrJG"
      },
      "source": [
        "####Info Data"
      ]
    },
    {
      "cell_type": "code",
      "metadata": {
        "id": "5Qua9GwWDvTD",
        "colab": {
          "base_uri": "https://localhost:8080/"
        },
        "outputId": "c3faf58d-83f9-4d0c-d214-1df11f7c4687"
      },
      "source": [
        "# Info data train\n",
        "data_train.info()"
      ],
      "execution_count": 145,
      "outputs": [
        {
          "output_type": "stream",
          "text": [
            "<class 'pandas.core.frame.DataFrame'>\n",
            "RangeIndex: 109095 entries, 0 to 109094\n",
            "Data columns (total 24 columns):\n",
            " #   Column                    Non-Null Count   Dtype  \n",
            "---  ------                    --------------   -----  \n",
            " 0   id                        109095 non-null  int64  \n",
            " 1   Tanggal                   109095 non-null  object \n",
            " 2   KodeLokasi                109095 non-null  object \n",
            " 3   SuhuMin                   107973 non-null  float64\n",
            " 4   SuhuMax                   108166 non-null  float64\n",
            " 5   Hujan                     106664 non-null  float64\n",
            " 6   Penguapan                 62071 non-null   float64\n",
            " 7   SinarMatahari             56716 non-null   float64\n",
            " 8   ArahAnginTerkencang       101351 non-null  object \n",
            " 9   KecepatanAnginTerkencang  101399 non-null  float64\n",
            " 10  ArahAngin9am              101172 non-null  object \n",
            " 11  ArahAngin3pm              105898 non-null  object \n",
            " 12  KecepatanAngin9am         107742 non-null  float64\n",
            " 13  KecepatanAngin3pm         106792 non-null  float64\n",
            " 14  Kelembaban9am             107093 non-null  float64\n",
            " 15  Kelembaban3pm             105721 non-null  float64\n",
            " 16  Tekanan9am                97768 non-null   float64\n",
            " 17  Tekanan3pm                97787 non-null   float64\n",
            " 18  Awan9am                   67251 non-null   float64\n",
            " 19  Awan3pm                   64624 non-null   float64\n",
            " 20  Suhu9am                   107755 non-null  float64\n",
            " 21  Suhu3pm                   106397 non-null  float64\n",
            " 22  BersaljuHariIni           106664 non-null  object \n",
            " 23  BersaljuBesok             106664 non-null  object \n",
            "dtypes: float64(16), int64(1), object(7)\n",
            "memory usage: 20.0+ MB\n"
          ],
          "name": "stdout"
        }
      ]
    },
    {
      "cell_type": "code",
      "metadata": {
        "id": "BcM3tJauEFSn",
        "colab": {
          "base_uri": "https://localhost:8080/"
        },
        "outputId": "838db66d-a2e9-4af4-b74c-e5f874ac09de"
      },
      "source": [
        "# Info data test\n",
        "data_test.info()"
      ],
      "execution_count": 146,
      "outputs": [
        {
          "output_type": "stream",
          "text": [
            "<class 'pandas.core.frame.DataFrame'>\n",
            "RangeIndex: 18182 entries, 0 to 18181\n",
            "Data columns (total 23 columns):\n",
            " #   Column                    Non-Null Count  Dtype  \n",
            "---  ------                    --------------  -----  \n",
            " 0   Tanggal                   18182 non-null  object \n",
            " 1   KodeLokasi                18182 non-null  object \n",
            " 2   SuhuMin                   18017 non-null  float64\n",
            " 3   SuhuMax                   18017 non-null  float64\n",
            " 4   Hujan                     17795 non-null  float64\n",
            " 5   Penguapan                 10326 non-null  float64\n",
            " 6   SinarMatahari             9464 non-null   float64\n",
            " 7   ArahAnginTerkencang       16901 non-null  object \n",
            " 8   KecepatanAnginTerkencang  16908 non-null  float64\n",
            " 9   ArahAngin9am              16874 non-null  object \n",
            " 10  ArahAngin3pm              17686 non-null  object \n",
            " 11  KecepatanAngin9am         17984 non-null  float64\n",
            " 12  KecepatanAngin3pm         17828 non-null  float64\n",
            " 13  Kelembaban9am             17852 non-null  float64\n",
            " 14  Kelembaban3pm             17634 non-null  float64\n",
            " 15  Tekanan9am                16317 non-null  float64\n",
            " 16  Tekanan3pm                16329 non-null  float64\n",
            " 17  Awan9am                   11140 non-null  float64\n",
            " 18  Awan3pm                   10726 non-null  float64\n",
            " 19  Suhu9am                   17963 non-null  float64\n",
            " 20  Suhu3pm                   17740 non-null  float64\n",
            " 21  BersaljuHariIni           17795 non-null  object \n",
            " 22  BersaljuBesok             17763 non-null  object \n",
            "dtypes: float64(16), object(7)\n",
            "memory usage: 3.2+ MB\n"
          ],
          "name": "stdout"
        }
      ]
    },
    {
      "cell_type": "markdown",
      "metadata": {
        "id": "KHzfjpW1Y4Y6"
      },
      "source": [
        "###Analisa Kolom Target (BersaljuBesok)\n",
        "\n"
      ]
    },
    {
      "cell_type": "markdown",
      "metadata": {
        "id": "9iflph0Km5z6"
      },
      "source": [
        "###Cek Unique value"
      ]
    },
    {
      "cell_type": "code",
      "metadata": {
        "id": "vpKdrst5nDVl",
        "colab": {
          "base_uri": "https://localhost:8080/"
        },
        "outputId": "816a9dd1-e62b-4e1f-f1b2-20fdd2b203ad"
      },
      "source": [
        "data_train['BersaljuBesok'].unique()"
      ],
      "execution_count": 147,
      "outputs": [
        {
          "output_type": "execute_result",
          "data": {
            "text/plain": [
              "array(['Tidak', 'Ya', nan], dtype=object)"
            ]
          },
          "metadata": {
            "tags": []
          },
          "execution_count": 147
        }
      ]
    },
    {
      "cell_type": "code",
      "metadata": {
        "id": "mu50TY3RnHTU",
        "colab": {
          "base_uri": "https://localhost:8080/"
        },
        "outputId": "b62b9717-ab9a-4457-d607-8b53705bc449"
      },
      "source": [
        "data_test['BersaljuBesok'].unique()"
      ],
      "execution_count": 148,
      "outputs": [
        {
          "output_type": "execute_result",
          "data": {
            "text/plain": [
              "array(['No', 'Yes', nan], dtype=object)"
            ]
          },
          "metadata": {
            "tags": []
          },
          "execution_count": 148
        }
      ]
    },
    {
      "cell_type": "markdown",
      "metadata": {
        "id": "7sqyKeBfnMA5"
      },
      "source": [
        "Nilai pada data_train dan data_test tidak konsisten dan terdapat missing value. Oleh karena itu nilai kategorikal tersebut diubah menjadi bentuk numerical dan mengisi missing value dengan nilai modus."
      ]
    },
    {
      "cell_type": "markdown",
      "metadata": {
        "id": "gPoy7HZoovud"
      },
      "source": [
        "####Mengatasi Missing Value"
      ]
    },
    {
      "cell_type": "code",
      "metadata": {
        "id": "nE0ZJFwcpKnh",
        "colab": {
          "base_uri": "https://localhost:8080/"
        },
        "outputId": "3b9597c7-3976-408c-af5b-d47627ece431"
      },
      "source": [
        "data_train['BersaljuBesok'].isnull().sum()"
      ],
      "execution_count": 149,
      "outputs": [
        {
          "output_type": "execute_result",
          "data": {
            "text/plain": [
              "2431"
            ]
          },
          "metadata": {
            "tags": []
          },
          "execution_count": 149
        }
      ]
    },
    {
      "cell_type": "code",
      "metadata": {
        "id": "D9FXYnzgpa3m",
        "colab": {
          "base_uri": "https://localhost:8080/"
        },
        "outputId": "344cdcb1-3830-43e0-e19c-a74795288578"
      },
      "source": [
        "data_train['BersaljuBesok'].fillna(data_train['BersaljuBesok'].mode()[0], inplace=True)\n",
        "data_train['BersaljuBesok'].isnull().sum()"
      ],
      "execution_count": 150,
      "outputs": [
        {
          "output_type": "execute_result",
          "data": {
            "text/plain": [
              "0"
            ]
          },
          "metadata": {
            "tags": []
          },
          "execution_count": 150
        }
      ]
    },
    {
      "cell_type": "code",
      "metadata": {
        "id": "hL5lzbhEpyqt",
        "colab": {
          "base_uri": "https://localhost:8080/"
        },
        "outputId": "19e347fb-cae1-42c7-dfdb-d07ffba0eda1"
      },
      "source": [
        "data_test['BersaljuBesok'].isnull().sum()"
      ],
      "execution_count": 151,
      "outputs": [
        {
          "output_type": "execute_result",
          "data": {
            "text/plain": [
              "419"
            ]
          },
          "metadata": {
            "tags": []
          },
          "execution_count": 151
        }
      ]
    },
    {
      "cell_type": "code",
      "metadata": {
        "id": "NBjk0CjVo1lP",
        "colab": {
          "base_uri": "https://localhost:8080/"
        },
        "outputId": "cb37e1d9-3008-4c1b-d45e-9c4e42345b4f"
      },
      "source": [
        "data_test['BersaljuBesok'].fillna(data_test['BersaljuBesok'].mode()[0], inplace=True)\n",
        "data_test['BersaljuBesok'].isnull().sum()"
      ],
      "execution_count": 152,
      "outputs": [
        {
          "output_type": "execute_result",
          "data": {
            "text/plain": [
              "0"
            ]
          },
          "metadata": {
            "tags": []
          },
          "execution_count": 152
        }
      ]
    },
    {
      "cell_type": "markdown",
      "metadata": {
        "id": "bhxq0eianoQk"
      },
      "source": [
        "####Mengatasi masalah pada unique value"
      ]
    },
    {
      "cell_type": "markdown",
      "metadata": {
        "id": "K8UI6RHqoyem"
      },
      "source": [
        ""
      ]
    },
    {
      "cell_type": "code",
      "metadata": {
        "id": "PWoy5uBonn54"
      },
      "source": [
        "data_train['BersaljuBesok'].replace({'Tidak': 0, 'Ya': 1},inplace = True)\n",
        "data_test['BersaljuBesok'].replace({'No': 0, 'Yes': 1},inplace = True)"
      ],
      "execution_count": 153,
      "outputs": []
    },
    {
      "cell_type": "markdown",
      "metadata": {
        "id": "w5l1tp9Fn05a"
      },
      "source": [
        "Nilai pada data_train dan data_test diubah menjadi angka 0 atau 1"
      ]
    },
    {
      "cell_type": "code",
      "metadata": {
        "id": "SQT7JyIsoQbB",
        "colab": {
          "base_uri": "https://localhost:8080/"
        },
        "outputId": "75bc2e26-c7bd-420d-d682-6f8ba79e7c33"
      },
      "source": [
        "data_train['BersaljuBesok'].unique()"
      ],
      "execution_count": 154,
      "outputs": [
        {
          "output_type": "execute_result",
          "data": {
            "text/plain": [
              "array([0, 1])"
            ]
          },
          "metadata": {
            "tags": []
          },
          "execution_count": 154
        }
      ]
    },
    {
      "cell_type": "code",
      "metadata": {
        "id": "Ip07PRi8oTNz",
        "colab": {
          "base_uri": "https://localhost:8080/"
        },
        "outputId": "8f84f88e-043a-432f-df4a-6df5cca2ab50"
      },
      "source": [
        "data_test['BersaljuBesok'].unique()"
      ],
      "execution_count": 155,
      "outputs": [
        {
          "output_type": "execute_result",
          "data": {
            "text/plain": [
              "array([0, 1])"
            ]
          },
          "metadata": {
            "tags": []
          },
          "execution_count": 155
        }
      ]
    },
    {
      "cell_type": "markdown",
      "metadata": {
        "id": "Y6Sm-Lyc3J0d"
      },
      "source": [
        "##Preprocessing"
      ]
    },
    {
      "cell_type": "markdown",
      "metadata": {
        "id": "ZWN5Gt5OYcl-"
      },
      "source": [
        "###Missing Value"
      ]
    },
    {
      "cell_type": "markdown",
      "metadata": {
        "id": "OphOO65wj7Kv"
      },
      "source": [
        "####Cek Missing Value"
      ]
    },
    {
      "cell_type": "code",
      "metadata": {
        "id": "xd7f4BO65Ucj",
        "colab": {
          "base_uri": "https://localhost:8080/"
        },
        "outputId": "dc566619-c20e-4fcd-e464-15baa42991a0"
      },
      "source": [
        "# Mengecek Missing Value\n",
        "print(\"Check Missing Values in Data Train\")\n",
        "data_train.isnull().sum()"
      ],
      "execution_count": 156,
      "outputs": [
        {
          "output_type": "stream",
          "text": [
            "Check Missing Values in Data Train\n"
          ],
          "name": "stdout"
        },
        {
          "output_type": "execute_result",
          "data": {
            "text/plain": [
              "id                              0\n",
              "Tanggal                         0\n",
              "KodeLokasi                      0\n",
              "SuhuMin                      1122\n",
              "SuhuMax                       929\n",
              "Hujan                        2431\n",
              "Penguapan                   47024\n",
              "SinarMatahari               52379\n",
              "ArahAnginTerkencang          7744\n",
              "KecepatanAnginTerkencang     7696\n",
              "ArahAngin9am                 7923\n",
              "ArahAngin3pm                 3197\n",
              "KecepatanAngin9am            1353\n",
              "KecepatanAngin3pm            2303\n",
              "Kelembaban9am                2002\n",
              "Kelembaban3pm                3374\n",
              "Tekanan9am                  11327\n",
              "Tekanan3pm                  11308\n",
              "Awan9am                     41844\n",
              "Awan3pm                     44471\n",
              "Suhu9am                      1340\n",
              "Suhu3pm                      2698\n",
              "BersaljuHariIni              2431\n",
              "BersaljuBesok                   0\n",
              "dtype: int64"
            ]
          },
          "metadata": {
            "tags": []
          },
          "execution_count": 156
        }
      ]
    },
    {
      "cell_type": "code",
      "metadata": {
        "id": "mzfdcRtkZwDf",
        "colab": {
          "base_uri": "https://localhost:8080/"
        },
        "outputId": "9633b76a-0ec9-45ab-ebc5-95204ddce7be"
      },
      "source": [
        "# Mengecek Missing Value\n",
        "print(\"Check Missing Values in Data test\")\n",
        "data_test.isnull().sum()"
      ],
      "execution_count": 157,
      "outputs": [
        {
          "output_type": "stream",
          "text": [
            "Check Missing Values in Data test\n"
          ],
          "name": "stdout"
        },
        {
          "output_type": "execute_result",
          "data": {
            "text/plain": [
              "Tanggal                        0\n",
              "KodeLokasi                     0\n",
              "SuhuMin                      165\n",
              "SuhuMax                      165\n",
              "Hujan                        387\n",
              "Penguapan                   7856\n",
              "SinarMatahari               8718\n",
              "ArahAnginTerkencang         1281\n",
              "KecepatanAnginTerkencang    1274\n",
              "ArahAngin9am                1308\n",
              "ArahAngin3pm                 496\n",
              "KecepatanAngin9am            198\n",
              "KecepatanAngin3pm            354\n",
              "Kelembaban9am                330\n",
              "Kelembaban3pm                548\n",
              "Tekanan9am                  1865\n",
              "Tekanan3pm                  1853\n",
              "Awan9am                     7042\n",
              "Awan3pm                     7456\n",
              "Suhu9am                      219\n",
              "Suhu3pm                      442\n",
              "BersaljuHariIni              387\n",
              "BersaljuBesok                  0\n",
              "dtype: int64"
            ]
          },
          "metadata": {
            "tags": []
          },
          "execution_count": 157
        }
      ]
    },
    {
      "cell_type": "markdown",
      "metadata": {
        "id": "hTXa465uiu08"
      },
      "source": [
        "####Mengatasi missing value"
      ]
    },
    {
      "cell_type": "markdown",
      "metadata": {
        "id": "_8YHLHSQEjUx"
      },
      "source": [
        "Missing value pada kolom data numerik diisi dengan nilai mean. Dan pada kolom data kategorial diisi dengan nilai modus"
      ]
    },
    {
      "cell_type": "code",
      "metadata": {
        "id": "7NHBNxrF641w",
        "colab": {
          "base_uri": "https://localhost:8080/"
        },
        "outputId": "cac91d17-b10f-4f79-e964-02f0dd9c8334"
      },
      "source": [
        "data_train.fillna(data_train.mean(), inplace=True)               # Nilai Numerik\n",
        "data_train = data_train.fillna(data_train.mode().iloc[0])        # Nilai Kategorikal\n",
        "data_train.isnull().sum()"
      ],
      "execution_count": 158,
      "outputs": [
        {
          "output_type": "execute_result",
          "data": {
            "text/plain": [
              "id                          0\n",
              "Tanggal                     0\n",
              "KodeLokasi                  0\n",
              "SuhuMin                     0\n",
              "SuhuMax                     0\n",
              "Hujan                       0\n",
              "Penguapan                   0\n",
              "SinarMatahari               0\n",
              "ArahAnginTerkencang         0\n",
              "KecepatanAnginTerkencang    0\n",
              "ArahAngin9am                0\n",
              "ArahAngin3pm                0\n",
              "KecepatanAngin9am           0\n",
              "KecepatanAngin3pm           0\n",
              "Kelembaban9am               0\n",
              "Kelembaban3pm               0\n",
              "Tekanan9am                  0\n",
              "Tekanan3pm                  0\n",
              "Awan9am                     0\n",
              "Awan3pm                     0\n",
              "Suhu9am                     0\n",
              "Suhu3pm                     0\n",
              "BersaljuHariIni             0\n",
              "BersaljuBesok               0\n",
              "dtype: int64"
            ]
          },
          "metadata": {
            "tags": []
          },
          "execution_count": 158
        }
      ]
    },
    {
      "cell_type": "code",
      "metadata": {
        "id": "RPjo0ZHhmUwv",
        "colab": {
          "base_uri": "https://localhost:8080/"
        },
        "outputId": "c03950d3-aa8b-477f-a134-f8f9abc5fd03"
      },
      "source": [
        "data_test.fillna(data_test.mean(), inplace=True)               # Nilai Numerik\n",
        "data_test = data_test.fillna(data_test.mode().iloc[0])        # Nilai Kategorikal\n",
        "data_test.isnull().sum()"
      ],
      "execution_count": 159,
      "outputs": [
        {
          "output_type": "execute_result",
          "data": {
            "text/plain": [
              "Tanggal                     0\n",
              "KodeLokasi                  0\n",
              "SuhuMin                     0\n",
              "SuhuMax                     0\n",
              "Hujan                       0\n",
              "Penguapan                   0\n",
              "SinarMatahari               0\n",
              "ArahAnginTerkencang         0\n",
              "KecepatanAnginTerkencang    0\n",
              "ArahAngin9am                0\n",
              "ArahAngin3pm                0\n",
              "KecepatanAngin9am           0\n",
              "KecepatanAngin3pm           0\n",
              "Kelembaban9am               0\n",
              "Kelembaban3pm               0\n",
              "Tekanan9am                  0\n",
              "Tekanan3pm                  0\n",
              "Awan9am                     0\n",
              "Awan3pm                     0\n",
              "Suhu9am                     0\n",
              "Suhu3pm                     0\n",
              "BersaljuHariIni             0\n",
              "BersaljuBesok               0\n",
              "dtype: int64"
            ]
          },
          "metadata": {
            "tags": []
          },
          "execution_count": 159
        }
      ]
    },
    {
      "cell_type": "markdown",
      "metadata": {
        "id": "6tNE3DE0lVdZ"
      },
      "source": [
        "###Class Imbalance (BersaljuBesok)"
      ]
    },
    {
      "cell_type": "markdown",
      "metadata": {
        "id": "-Hhd3-TMlZ7z"
      },
      "source": [
        "Cek Distribusi"
      ]
    },
    {
      "cell_type": "code",
      "metadata": {
        "id": "2FqWz5_PmvOa",
        "colab": {
          "base_uri": "https://localhost:8080/",
          "height": 444
        },
        "outputId": "c751fd5e-d42c-435c-f411-79a317f0caa9"
      },
      "source": [
        "fig = plt.figure(figsize = (8,7))\n",
        "data_train.BersaljuBesok.value_counts(normalize = True).plot(kind='bar', color= ['seagreen','green'], alpha = 0.9, rot=0)\n",
        "plt.title('Feature BersaljuBesok (Imbalanced)')\n",
        "plt.show()"
      ],
      "execution_count": 160,
      "outputs": [
        {
          "output_type": "display_data",
          "data": {
            "image/png": "[encoded data removed]",
            "text/plain": [
              "<Figure size 576x504 with 1 Axes>"
            ]
          },
          "metadata": {
            "tags": [],
            "needs_background": "light"
          }
        }
      ]
    },
    {
      "cell_type": "markdown",
      "metadata": {
        "id": "iW4GJQ8PnERw"
      },
      "source": [
        "Mengatasi Imbalance"
      ]
    },
    {
      "cell_type": "code",
      "metadata": {
        "id": "iI3kfhUdlK6V"
      },
      "source": [
        "from sklearn.utils import resample\n",
        "\n",
        "tidak = data_train[data_train['BersaljuBesok'] == 0]\n",
        "ya = data_train[data_train['BersaljuBesok'] == 1]\n",
        "\n",
        "ya_oversample = resample(ya, replace=True, n_samples=len(tidak), random_state=123)\n",
        "oversample = pd.concat([tidak, ya_oversample])"
      ],
      "execution_count": 161,
      "outputs": []
    },
    {
      "cell_type": "markdown",
      "metadata": {
        "id": "vKRIuoe2nKNn"
      },
      "source": [
        "Cek Hasil"
      ]
    },
    {
      "cell_type": "code",
      "metadata": {
        "id": "SO3zHCth3dch",
        "colab": {
          "base_uri": "https://localhost:8080/"
        },
        "outputId": "b4f15048-29d6-4d0f-f2c2-183ae851fa1a"
      },
      "source": [
        "# Mengecek jumlah data pada kolom \"Bersalju Besok\"\n",
        "data_train['BersaljuBesok'].value_counts()"
      ],
      "execution_count": 162,
      "outputs": [
        {
          "output_type": "execute_result",
          "data": {
            "text/plain": [
              "0    85132\n",
              "1    23963\n",
              "Name: BersaljuBesok, dtype: int64"
            ]
          },
          "metadata": {
            "tags": []
          },
          "execution_count": 162
        }
      ]
    },
    {
      "cell_type": "code",
      "metadata": {
        "id": "tuYfd5cOnM62",
        "colab": {
          "base_uri": "https://localhost:8080/",
          "height": 444
        },
        "outputId": "b4e9d643-edd8-4c36-cf5a-07f850d097d8"
      },
      "source": [
        "fig = plt.figure(figsize = (8,7))\n",
        "oversample['BersaljuBesok'].value_counts(normalize = True).plot(kind='bar', color= ['seagreen','green'], alpha = 0.9, rot=0)\n",
        "plt.title('Feature BersaljuBesok Oversampled (Balanced)')\n",
        "plt.show()"
      ],
      "execution_count": 163,
      "outputs": [
        {
          "output_type": "display_data",
          "data": {
            "image/png": "[encoded data removed]",
            "text/plain": [
              "<Figure size 576x504 with 1 Axes>"
            ]
          },
          "metadata": {
            "tags": [],
            "needs_background": "light"
          }
        }
      ]
    },
    {
      "cell_type": "markdown",
      "metadata": {
        "id": "-MH_-7m53fkT"
      },
      "source": [
        "###Drop Features"
      ]
    },
    {
      "cell_type": "markdown",
      "metadata": {
        "id": "9PlnftmxBX-Y"
      },
      "source": [
        "####Drop Features"
      ]
    },
    {
      "cell_type": "markdown",
      "metadata": {
        "id": "jBkhcHxbBs8r"
      },
      "source": [
        "Drop feature Id dan Tanggal"
      ]
    },
    {
      "cell_type": "code",
      "metadata": {
        "id": "bPM4pzbd3Gso",
        "colab": {
          "base_uri": "https://localhost:8080/",
          "height": 224
        },
        "outputId": "51360b19-b06a-4e78-84f3-a07a6c2612aa"
      },
      "source": [
        "# Data Train\n",
        "\n",
        "# Drop feature id\n",
        "data_train = data_train.drop(columns=['id'])\n",
        "\n",
        "# Drop feature Tanggal\n",
        "data_train = data_train.drop(columns=['Tanggal'])\n",
        "\n",
        "data_train.head()"
      ],
      "execution_count": 164,
      "outputs": [
        {
          "output_type": "execute_result",
          "data": {
            "text/html": [
              "<div>\n",
              "<style scoped>\n",
              "    .dataframe tbody tr th:only-of-type {\n",
              "        vertical-align: middle;\n",
              "    }\n",
              "\n",
              "    .dataframe tbody tr th {\n",
              "        vertical-align: top;\n",
              "    }\n",
              "\n",
              "    .dataframe thead th {\n",
              "        text-align: right;\n",
              "    }\n",
              "</style>\n",
              "<table border=\"1\" class=\"dataframe\">\n",
              "  <thead>\n",
              "    <tr style=\"text-align: right;\">\n",
              "      <th></th>\n",
              "      <th>KodeLokasi</th>\n",
              "      <th>SuhuMin</th>\n",
              "      <th>SuhuMax</th>\n",
              "      <th>Hujan</th>\n",
              "      <th>Penguapan</th>\n",
              "      <th>SinarMatahari</th>\n",
              "      <th>ArahAnginTerkencang</th>\n",
              "      <th>KecepatanAnginTerkencang</th>\n",
              "      <th>ArahAngin9am</th>\n",
              "      <th>ArahAngin3pm</th>\n",
              "      <th>KecepatanAngin9am</th>\n",
              "      <th>KecepatanAngin3pm</th>\n",
              "      <th>Kelembaban9am</th>\n",
              "      <th>Kelembaban3pm</th>\n",
              "      <th>Tekanan9am</th>\n",
              "      <th>Tekanan3pm</th>\n",
              "      <th>Awan9am</th>\n",
              "      <th>Awan3pm</th>\n",
              "      <th>Suhu9am</th>\n",
              "      <th>Suhu3pm</th>\n",
              "      <th>BersaljuHariIni</th>\n",
              "      <th>BersaljuBesok</th>\n",
              "    </tr>\n",
              "  </thead>\n",
              "  <tbody>\n",
              "    <tr>\n",
              "      <th>0</th>\n",
              "      <td>C4</td>\n",
              "      <td>10.4</td>\n",
              "      <td>15.5</td>\n",
              "      <td>4.8</td>\n",
              "      <td>5.46244</td>\n",
              "      <td>7.599527</td>\n",
              "      <td>WSW</td>\n",
              "      <td>24.000000</td>\n",
              "      <td>N</td>\n",
              "      <td>WSW</td>\n",
              "      <td>0.0</td>\n",
              "      <td>13.0</td>\n",
              "      <td>78.0</td>\n",
              "      <td>76.0</td>\n",
              "      <td>1020.10000</td>\n",
              "      <td>1018.500000</td>\n",
              "      <td>4.450893</td>\n",
              "      <td>4.51614</td>\n",
              "      <td>13.1</td>\n",
              "      <td>15.0</td>\n",
              "      <td>Ya</td>\n",
              "      <td>0</td>\n",
              "    </tr>\n",
              "    <tr>\n",
              "      <th>1</th>\n",
              "      <td>C10</td>\n",
              "      <td>9.0</td>\n",
              "      <td>17.0</td>\n",
              "      <td>8.0</td>\n",
              "      <td>2.60000</td>\n",
              "      <td>7.400000</td>\n",
              "      <td>W</td>\n",
              "      <td>40.032002</td>\n",
              "      <td>SW</td>\n",
              "      <td>WNW</td>\n",
              "      <td>13.0</td>\n",
              "      <td>20.0</td>\n",
              "      <td>80.0</td>\n",
              "      <td>61.0</td>\n",
              "      <td>1015.20000</td>\n",
              "      <td>1014.600000</td>\n",
              "      <td>7.000000</td>\n",
              "      <td>5.00000</td>\n",
              "      <td>11.9</td>\n",
              "      <td>15.5</td>\n",
              "      <td>Ya</td>\n",
              "      <td>1</td>\n",
              "    </tr>\n",
              "    <tr>\n",
              "      <th>2</th>\n",
              "      <td>C46</td>\n",
              "      <td>18.2</td>\n",
              "      <td>32.0</td>\n",
              "      <td>0.0</td>\n",
              "      <td>5.46244</td>\n",
              "      <td>7.599527</td>\n",
              "      <td>ESE</td>\n",
              "      <td>44.000000</td>\n",
              "      <td>SE</td>\n",
              "      <td>SE</td>\n",
              "      <td>15.0</td>\n",
              "      <td>26.0</td>\n",
              "      <td>62.0</td>\n",
              "      <td>42.0</td>\n",
              "      <td>1017.64708</td>\n",
              "      <td>1015.253117</td>\n",
              "      <td>4.450893</td>\n",
              "      <td>4.51614</td>\n",
              "      <td>23.8</td>\n",
              "      <td>29.6</td>\n",
              "      <td>Tidak</td>\n",
              "      <td>0</td>\n",
              "    </tr>\n",
              "    <tr>\n",
              "      <th>3</th>\n",
              "      <td>C36</td>\n",
              "      <td>7.3</td>\n",
              "      <td>24.5</td>\n",
              "      <td>0.0</td>\n",
              "      <td>8.40000</td>\n",
              "      <td>10.400000</td>\n",
              "      <td>SSW</td>\n",
              "      <td>54.000000</td>\n",
              "      <td>N</td>\n",
              "      <td>SW</td>\n",
              "      <td>13.0</td>\n",
              "      <td>19.0</td>\n",
              "      <td>25.0</td>\n",
              "      <td>17.0</td>\n",
              "      <td>1019.20000</td>\n",
              "      <td>1016.900000</td>\n",
              "      <td>1.000000</td>\n",
              "      <td>7.00000</td>\n",
              "      <td>15.3</td>\n",
              "      <td>23.2</td>\n",
              "      <td>Tidak</td>\n",
              "      <td>0</td>\n",
              "    </tr>\n",
              "    <tr>\n",
              "      <th>4</th>\n",
              "      <td>C7</td>\n",
              "      <td>5.9</td>\n",
              "      <td>20.3</td>\n",
              "      <td>0.0</td>\n",
              "      <td>3.60000</td>\n",
              "      <td>12.600000</td>\n",
              "      <td>N</td>\n",
              "      <td>37.000000</td>\n",
              "      <td>NNW</td>\n",
              "      <td>ESE</td>\n",
              "      <td>22.0</td>\n",
              "      <td>19.0</td>\n",
              "      <td>55.0</td>\n",
              "      <td>48.0</td>\n",
              "      <td>1019.70000</td>\n",
              "      <td>1014.700000</td>\n",
              "      <td>2.000000</td>\n",
              "      <td>6.00000</td>\n",
              "      <td>12.4</td>\n",
              "      <td>18.1</td>\n",
              "      <td>Tidak</td>\n",
              "      <td>0</td>\n",
              "    </tr>\n",
              "  </tbody>\n",
              "</table>\n",
              "</div>"
            ],
            "text/plain": [
              "  KodeLokasi  SuhuMin  SuhuMax  ...  Suhu3pm  BersaljuHariIni  BersaljuBesok\n",
              "0         C4     10.4     15.5  ...     15.0               Ya              0\n",
              "1        C10      9.0     17.0  ...     15.5               Ya              1\n",
              "2        C46     18.2     32.0  ...     29.6            Tidak              0\n",
              "3        C36      7.3     24.5  ...     23.2            Tidak              0\n",
              "4         C7      5.9     20.3  ...     18.1            Tidak              0\n",
              "\n",
              "[5 rows x 22 columns]"
            ]
          },
          "metadata": {
            "tags": []
          },
          "execution_count": 164
        }
      ]
    },
    {
      "cell_type": "code",
      "metadata": {
        "id": "-RgPOvjnCBaf",
        "colab": {
          "base_uri": "https://localhost:8080/",
          "height": 224
        },
        "outputId": "60b20efb-9674-43e7-827c-e9fd64fbbac7"
      },
      "source": [
        "# Data test\n",
        "\n",
        "# Drop feature Tanggal\n",
        "data_test = data_test.drop(columns=['Tanggal'])\n",
        "\n",
        "data_test.head()"
      ],
      "execution_count": 165,
      "outputs": [
        {
          "output_type": "execute_result",
          "data": {
            "text/html": [
              "<div>\n",
              "<style scoped>\n",
              "    .dataframe tbody tr th:only-of-type {\n",
              "        vertical-align: middle;\n",
              "    }\n",
              "\n",
              "    .dataframe tbody tr th {\n",
              "        vertical-align: top;\n",
              "    }\n",
              "\n",
              "    .dataframe thead th {\n",
              "        text-align: right;\n",
              "    }\n",
              "</style>\n",
              "<table border=\"1\" class=\"dataframe\">\n",
              "  <thead>\n",
              "    <tr style=\"text-align: right;\">\n",
              "      <th></th>\n",
              "      <th>KodeLokasi</th>\n",
              "      <th>SuhuMin</th>\n",
              "      <th>SuhuMax</th>\n",
              "      <th>Hujan</th>\n",
              "      <th>Penguapan</th>\n",
              "      <th>SinarMatahari</th>\n",
              "      <th>ArahAnginTerkencang</th>\n",
              "      <th>KecepatanAnginTerkencang</th>\n",
              "      <th>ArahAngin9am</th>\n",
              "      <th>ArahAngin3pm</th>\n",
              "      <th>KecepatanAngin9am</th>\n",
              "      <th>KecepatanAngin3pm</th>\n",
              "      <th>Kelembaban9am</th>\n",
              "      <th>Kelembaban3pm</th>\n",
              "      <th>Tekanan9am</th>\n",
              "      <th>Tekanan3pm</th>\n",
              "      <th>Awan9am</th>\n",
              "      <th>Awan3pm</th>\n",
              "      <th>Suhu9am</th>\n",
              "      <th>Suhu3pm</th>\n",
              "      <th>BersaljuHariIni</th>\n",
              "      <th>BersaljuBesok</th>\n",
              "    </tr>\n",
              "  </thead>\n",
              "  <tbody>\n",
              "    <tr>\n",
              "      <th>0</th>\n",
              "      <td>C39</td>\n",
              "      <td>11.0</td>\n",
              "      <td>27.5</td>\n",
              "      <td>0.0</td>\n",
              "      <td>5.509646</td>\n",
              "      <td>6.400000</td>\n",
              "      <td>WSW</td>\n",
              "      <td>46.0</td>\n",
              "      <td>W</td>\n",
              "      <td>W</td>\n",
              "      <td>20.0</td>\n",
              "      <td>28.0</td>\n",
              "      <td>39.0</td>\n",
              "      <td>56.0</td>\n",
              "      <td>1013.00000</td>\n",
              "      <td>1012.400000</td>\n",
              "      <td>4.00000</td>\n",
              "      <td>7.000000</td>\n",
              "      <td>25.7</td>\n",
              "      <td>23.6</td>\n",
              "      <td>No</td>\n",
              "      <td>0</td>\n",
              "    </tr>\n",
              "    <tr>\n",
              "      <th>1</th>\n",
              "      <td>C35</td>\n",
              "      <td>10.0</td>\n",
              "      <td>19.9</td>\n",
              "      <td>0.2</td>\n",
              "      <td>5.509646</td>\n",
              "      <td>7.630135</td>\n",
              "      <td>WNW</td>\n",
              "      <td>56.0</td>\n",
              "      <td>W</td>\n",
              "      <td>NW</td>\n",
              "      <td>24.0</td>\n",
              "      <td>33.0</td>\n",
              "      <td>76.0</td>\n",
              "      <td>32.0</td>\n",
              "      <td>1017.00000</td>\n",
              "      <td>1015.200000</td>\n",
              "      <td>8.00000</td>\n",
              "      <td>1.000000</td>\n",
              "      <td>10.7</td>\n",
              "      <td>18.9</td>\n",
              "      <td>No</td>\n",
              "      <td>1</td>\n",
              "    </tr>\n",
              "    <tr>\n",
              "      <th>2</th>\n",
              "      <td>C18</td>\n",
              "      <td>9.2</td>\n",
              "      <td>27.2</td>\n",
              "      <td>0.0</td>\n",
              "      <td>5.200000</td>\n",
              "      <td>10.400000</td>\n",
              "      <td>SSW</td>\n",
              "      <td>33.0</td>\n",
              "      <td>NE</td>\n",
              "      <td>N</td>\n",
              "      <td>13.0</td>\n",
              "      <td>19.0</td>\n",
              "      <td>89.0</td>\n",
              "      <td>27.0</td>\n",
              "      <td>1018.60000</td>\n",
              "      <td>1015.700000</td>\n",
              "      <td>0.00000</td>\n",
              "      <td>1.000000</td>\n",
              "      <td>13.9</td>\n",
              "      <td>26.3</td>\n",
              "      <td>No</td>\n",
              "      <td>0</td>\n",
              "    </tr>\n",
              "    <tr>\n",
              "      <th>3</th>\n",
              "      <td>C31</td>\n",
              "      <td>17.7</td>\n",
              "      <td>27.0</td>\n",
              "      <td>0.0</td>\n",
              "      <td>4.600000</td>\n",
              "      <td>6.700000</td>\n",
              "      <td>SW</td>\n",
              "      <td>35.0</td>\n",
              "      <td>E</td>\n",
              "      <td>SSE</td>\n",
              "      <td>20.0</td>\n",
              "      <td>15.0</td>\n",
              "      <td>55.0</td>\n",
              "      <td>41.0</td>\n",
              "      <td>1010.20000</td>\n",
              "      <td>1008.600000</td>\n",
              "      <td>7.00000</td>\n",
              "      <td>6.000000</td>\n",
              "      <td>22.3</td>\n",
              "      <td>26.4</td>\n",
              "      <td>No</td>\n",
              "      <td>0</td>\n",
              "    </tr>\n",
              "    <tr>\n",
              "      <th>4</th>\n",
              "      <td>C14</td>\n",
              "      <td>2.3</td>\n",
              "      <td>7.9</td>\n",
              "      <td>88.0</td>\n",
              "      <td>5.509646</td>\n",
              "      <td>7.630135</td>\n",
              "      <td>NW</td>\n",
              "      <td>46.0</td>\n",
              "      <td>W</td>\n",
              "      <td>WNW</td>\n",
              "      <td>13.0</td>\n",
              "      <td>9.0</td>\n",
              "      <td>98.0</td>\n",
              "      <td>95.0</td>\n",
              "      <td>1017.56166</td>\n",
              "      <td>1015.181064</td>\n",
              "      <td>4.44982</td>\n",
              "      <td>4.498322</td>\n",
              "      <td>4.4</td>\n",
              "      <td>6.0</td>\n",
              "      <td>Yes</td>\n",
              "      <td>0</td>\n",
              "    </tr>\n",
              "  </tbody>\n",
              "</table>\n",
              "</div>"
            ],
            "text/plain": [
              "  KodeLokasi  SuhuMin  SuhuMax  ...  Suhu3pm  BersaljuHariIni  BersaljuBesok\n",
              "0        C39     11.0     27.5  ...     23.6               No              0\n",
              "1        C35     10.0     19.9  ...     18.9               No              1\n",
              "2        C18      9.2     27.2  ...     26.3               No              0\n",
              "3        C31     17.7     27.0  ...     26.4               No              0\n",
              "4        C14      2.3      7.9  ...      6.0              Yes              0\n",
              "\n",
              "[5 rows x 22 columns]"
            ]
          },
          "metadata": {
            "tags": []
          },
          "execution_count": 165
        }
      ]
    },
    {
      "cell_type": "markdown",
      "metadata": {
        "id": "l5_Huhe7JjRP"
      },
      "source": [
        "###Encode Data"
      ]
    },
    {
      "cell_type": "markdown",
      "metadata": {
        "id": "AgEY-B4MJmTm"
      },
      "source": [
        "Mengubah data categorical menjadi data numerical"
      ]
    },
    {
      "cell_type": "code",
      "metadata": {
        "id": "Kn1K1QQrwVq1"
      },
      "source": [
        "# Merubah semua data categorical menjadi numerical di data train salju\n",
        "labelencoder = LabelEncoder()\n",
        "data_train['KodeLokasi'] = labelencoder.fit_transform(data_train['KodeLokasi'])\n",
        "data_train['ArahAnginTerkencang'] = labelencoder.fit_transform(data_train['ArahAnginTerkencang'])\n",
        "data_train['ArahAngin9am'] = labelencoder.fit_transform(data_train['ArahAngin9am'])\n",
        "data_train['ArahAngin3pm'] = labelencoder.fit_transform(data_train['ArahAngin3pm'])\n",
        "data_train['BersaljuHariIni'] = labelencoder.fit_transform(data_train['BersaljuHariIni'])\n"
      ],
      "execution_count": 166,
      "outputs": []
    },
    {
      "cell_type": "code",
      "metadata": {
        "id": "jrsi6pU-z2mM"
      },
      "source": [
        "# Merubah semua data categorical menjadi numerical di data test salju\n",
        "data_test['KodeLokasi'] = labelencoder.fit_transform(data_test['KodeLokasi'])\n",
        "data_test['ArahAnginTerkencang'] = labelencoder.fit_transform(data_test['ArahAnginTerkencang'])\n",
        "data_test['ArahAngin9am'] = labelencoder.fit_transform(data_test['ArahAngin9am'])\n",
        "data_test['ArahAngin3pm'] = labelencoder.fit_transform(data_test['ArahAngin3pm'])\n",
        "data_test['BersaljuHariIni'] = labelencoder.fit_transform(data_test['BersaljuHariIni'])"
      ],
      "execution_count": 167,
      "outputs": []
    },
    {
      "cell_type": "code",
      "metadata": {
        "id": "BRswhCLp77Ee",
        "colab": {
          "base_uri": "https://localhost:8080/"
        },
        "outputId": "a310fdfd-a0cc-488d-f30e-b9381b79bbd4"
      },
      "source": [
        "data_test.info()"
      ],
      "execution_count": 168,
      "outputs": [
        {
          "output_type": "stream",
          "text": [
            "<class 'pandas.core.frame.DataFrame'>\n",
            "RangeIndex: 18182 entries, 0 to 18181\n",
            "Data columns (total 22 columns):\n",
            " #   Column                    Non-Null Count  Dtype  \n",
            "---  ------                    --------------  -----  \n",
            " 0   KodeLokasi                18182 non-null  int64  \n",
            " 1   SuhuMin                   18182 non-null  float64\n",
            " 2   SuhuMax                   18182 non-null  float64\n",
            " 3   Hujan                     18182 non-null  float64\n",
            " 4   Penguapan                 18182 non-null  float64\n",
            " 5   SinarMatahari             18182 non-null  float64\n",
            " 6   ArahAnginTerkencang       18182 non-null  int64  \n",
            " 7   KecepatanAnginTerkencang  18182 non-null  float64\n",
            " 8   ArahAngin9am              18182 non-null  int64  \n",
            " 9   ArahAngin3pm              18182 non-null  int64  \n",
            " 10  KecepatanAngin9am         18182 non-null  float64\n",
            " 11  KecepatanAngin3pm         18182 non-null  float64\n",
            " 12  Kelembaban9am             18182 non-null  float64\n",
            " 13  Kelembaban3pm             18182 non-null  float64\n",
            " 14  Tekanan9am                18182 non-null  float64\n",
            " 15  Tekanan3pm                18182 non-null  float64\n",
            " 16  Awan9am                   18182 non-null  float64\n",
            " 17  Awan3pm                   18182 non-null  float64\n",
            " 18  Suhu9am                   18182 non-null  float64\n",
            " 19  Suhu3pm                   18182 non-null  float64\n",
            " 20  BersaljuHariIni           18182 non-null  int64  \n",
            " 21  BersaljuBesok             18182 non-null  int64  \n",
            "dtypes: float64(16), int64(6)\n",
            "memory usage: 3.1 MB\n"
          ],
          "name": "stdout"
        }
      ]
    },
    {
      "cell_type": "markdown",
      "metadata": {
        "id": "bbFUF17eK6HA"
      },
      "source": [
        "###Outliers"
      ]
    },
    {
      "cell_type": "markdown",
      "metadata": {
        "id": "TIZ-Rx8IOy8-"
      },
      "source": [
        "####Data Train"
      ]
    },
    {
      "cell_type": "code",
      "metadata": {
        "id": "q5xK0bNjwIhN",
        "colab": {
          "base_uri": "https://localhost:8080/",
          "height": 317
        },
        "outputId": "b6552995-263e-43b0-f326-6897191d619b"
      },
      "source": [
        "data_train.describe()"
      ],
      "execution_count": 169,
      "outputs": [
        {
          "output_type": "execute_result",
          "data": {
            "text/html": [
              "<div>\n",
              "<style scoped>\n",
              "    .dataframe tbody tr th:only-of-type {\n",
              "        vertical-align: middle;\n",
              "    }\n",
              "\n",
              "    .dataframe tbody tr th {\n",
              "        vertical-align: top;\n",
              "    }\n",
              "\n",
              "    .dataframe thead th {\n",
              "        text-align: right;\n",
              "    }\n",
              "</style>\n",
              "<table border=\"1\" class=\"dataframe\">\n",
              "  <thead>\n",
              "    <tr style=\"text-align: right;\">\n",
              "      <th></th>\n",
              "      <th>KodeLokasi</th>\n",
              "      <th>SuhuMin</th>\n",
              "      <th>SuhuMax</th>\n",
              "      <th>Hujan</th>\n",
              "      <th>Penguapan</th>\n",
              "      <th>SinarMatahari</th>\n",
              "      <th>ArahAnginTerkencang</th>\n",
              "      <th>KecepatanAnginTerkencang</th>\n",
              "      <th>ArahAngin9am</th>\n",
              "      <th>ArahAngin3pm</th>\n",
              "      <th>KecepatanAngin9am</th>\n",
              "      <th>KecepatanAngin3pm</th>\n",
              "      <th>Kelembaban9am</th>\n",
              "      <th>Kelembaban3pm</th>\n",
              "      <th>Tekanan9am</th>\n",
              "      <th>Tekanan3pm</th>\n",
              "      <th>Awan9am</th>\n",
              "      <th>Awan3pm</th>\n",
              "      <th>Suhu9am</th>\n",
              "      <th>Suhu3pm</th>\n",
              "      <th>BersaljuHariIni</th>\n",
              "      <th>BersaljuBesok</th>\n",
              "    </tr>\n",
              "  </thead>\n",
              "  <tbody>\n",
              "    <tr>\n",
              "      <th>count</th>\n",
              "      <td>109095.000000</td>\n",
              "      <td>109095.000000</td>\n",
              "      <td>109095.000000</td>\n",
              "      <td>109095.000000</td>\n",
              "      <td>109095.000000</td>\n",
              "      <td>109095.000000</td>\n",
              "      <td>109095.000000</td>\n",
              "      <td>109095.000000</td>\n",
              "      <td>109095.000000</td>\n",
              "      <td>109095.000000</td>\n",
              "      <td>109095.000000</td>\n",
              "      <td>109095.000000</td>\n",
              "      <td>109095.000000</td>\n",
              "      <td>109095.000000</td>\n",
              "      <td>109095.000000</td>\n",
              "      <td>109095.000000</td>\n",
              "      <td>109095.000000</td>\n",
              "      <td>109095.000000</td>\n",
              "      <td>109095.000000</td>\n",
              "      <td>109095.000000</td>\n",
              "      <td>109095.000000</td>\n",
              "      <td>109095.000000</td>\n",
              "    </tr>\n",
              "    <tr>\n",
              "      <th>mean</th>\n",
              "      <td>23.467657</td>\n",
              "      <td>12.196183</td>\n",
              "      <td>23.214819</td>\n",
              "      <td>2.385005</td>\n",
              "      <td>5.462440</td>\n",
              "      <td>7.599527</td>\n",
              "      <td>8.095146</td>\n",
              "      <td>40.032002</td>\n",
              "      <td>7.000642</td>\n",
              "      <td>7.799404</td>\n",
              "      <td>14.052115</td>\n",
              "      <td>18.677579</td>\n",
              "      <td>68.895577</td>\n",
              "      <td>51.567626</td>\n",
              "      <td>1017.647080</td>\n",
              "      <td>1015.253117</td>\n",
              "      <td>4.450893</td>\n",
              "      <td>4.516140</td>\n",
              "      <td>16.991391</td>\n",
              "      <td>21.672771</td>\n",
              "      <td>0.219937</td>\n",
              "      <td>0.219653</td>\n",
              "    </tr>\n",
              "    <tr>\n",
              "      <th>std</th>\n",
              "      <td>14.082341</td>\n",
              "      <td>6.356477</td>\n",
              "      <td>7.076273</td>\n",
              "      <td>8.491928</td>\n",
              "      <td>3.169269</td>\n",
              "      <td>2.731983</td>\n",
              "      <td>4.694516</td>\n",
              "      <td>13.128447</td>\n",
              "      <td>4.514716</td>\n",
              "      <td>4.534291</td>\n",
              "      <td>8.870568</td>\n",
              "      <td>8.736498</td>\n",
              "      <td>18.820426</td>\n",
              "      <td>20.467533</td>\n",
              "      <td>6.737726</td>\n",
              "      <td>6.672616</td>\n",
              "      <td>2.264781</td>\n",
              "      <td>2.092476</td>\n",
              "      <td>6.437697</td>\n",
              "      <td>6.836693</td>\n",
              "      <td>0.414205</td>\n",
              "      <td>0.414013</td>\n",
              "    </tr>\n",
              "    <tr>\n",
              "      <th>min</th>\n",
              "      <td>0.000000</td>\n",
              "      <td>-8.500000</td>\n",
              "      <td>-4.800000</td>\n",
              "      <td>0.000000</td>\n",
              "      <td>0.000000</td>\n",
              "      <td>0.000000</td>\n",
              "      <td>0.000000</td>\n",
              "      <td>7.000000</td>\n",
              "      <td>0.000000</td>\n",
              "      <td>0.000000</td>\n",
              "      <td>0.000000</td>\n",
              "      <td>0.000000</td>\n",
              "      <td>0.000000</td>\n",
              "      <td>0.000000</td>\n",
              "      <td>980.500000</td>\n",
              "      <td>977.100000</td>\n",
              "      <td>0.000000</td>\n",
              "      <td>0.000000</td>\n",
              "      <td>-7.200000</td>\n",
              "      <td>-5.400000</td>\n",
              "      <td>0.000000</td>\n",
              "      <td>0.000000</td>\n",
              "    </tr>\n",
              "    <tr>\n",
              "      <th>25%</th>\n",
              "      <td>11.000000</td>\n",
              "      <td>7.700000</td>\n",
              "      <td>18.000000</td>\n",
              "      <td>0.000000</td>\n",
              "      <td>4.000000</td>\n",
              "      <td>7.599527</td>\n",
              "      <td>4.000000</td>\n",
              "      <td>31.000000</td>\n",
              "      <td>3.000000</td>\n",
              "      <td>4.000000</td>\n",
              "      <td>7.000000</td>\n",
              "      <td>13.000000</td>\n",
              "      <td>57.000000</td>\n",
              "      <td>37.000000</td>\n",
              "      <td>1013.500000</td>\n",
              "      <td>1011.100000</td>\n",
              "      <td>3.000000</td>\n",
              "      <td>4.000000</td>\n",
              "      <td>12.400000</td>\n",
              "      <td>16.700000</td>\n",
              "      <td>0.000000</td>\n",
              "      <td>0.000000</td>\n",
              "    </tr>\n",
              "    <tr>\n",
              "      <th>50%</th>\n",
              "      <td>23.000000</td>\n",
              "      <td>12.100000</td>\n",
              "      <td>22.700000</td>\n",
              "      <td>0.000000</td>\n",
              "      <td>5.462440</td>\n",
              "      <td>7.599527</td>\n",
              "      <td>9.000000</td>\n",
              "      <td>39.000000</td>\n",
              "      <td>7.000000</td>\n",
              "      <td>8.000000</td>\n",
              "      <td>13.000000</td>\n",
              "      <td>18.677579</td>\n",
              "      <td>69.000000</td>\n",
              "      <td>51.567626</td>\n",
              "      <td>1017.647080</td>\n",
              "      <td>1015.253117</td>\n",
              "      <td>4.450893</td>\n",
              "      <td>4.516140</td>\n",
              "      <td>16.800000</td>\n",
              "      <td>21.400000</td>\n",
              "      <td>0.000000</td>\n",
              "      <td>0.000000</td>\n",
              "    </tr>\n",
              "    <tr>\n",
              "      <th>75%</th>\n",
              "      <td>35.000000</td>\n",
              "      <td>16.800000</td>\n",
              "      <td>28.200000</td>\n",
              "      <td>1.000000</td>\n",
              "      <td>5.462440</td>\n",
              "      <td>8.700000</td>\n",
              "      <td>13.000000</td>\n",
              "      <td>46.000000</td>\n",
              "      <td>11.000000</td>\n",
              "      <td>12.000000</td>\n",
              "      <td>19.000000</td>\n",
              "      <td>24.000000</td>\n",
              "      <td>83.000000</td>\n",
              "      <td>65.000000</td>\n",
              "      <td>1021.800000</td>\n",
              "      <td>1019.400000</td>\n",
              "      <td>6.000000</td>\n",
              "      <td>6.000000</td>\n",
              "      <td>21.500000</td>\n",
              "      <td>26.200000</td>\n",
              "      <td>0.000000</td>\n",
              "      <td>0.000000</td>\n",
              "    </tr>\n",
              "    <tr>\n",
              "      <th>max</th>\n",
              "      <td>48.000000</td>\n",
              "      <td>33.900000</td>\n",
              "      <td>47.300000</td>\n",
              "      <td>371.000000</td>\n",
              "      <td>145.000000</td>\n",
              "      <td>14.300000</td>\n",
              "      <td>15.000000</td>\n",
              "      <td>135.000000</td>\n",
              "      <td>15.000000</td>\n",
              "      <td>15.000000</td>\n",
              "      <td>130.000000</td>\n",
              "      <td>87.000000</td>\n",
              "      <td>100.000000</td>\n",
              "      <td>100.000000</td>\n",
              "      <td>1041.000000</td>\n",
              "      <td>1039.600000</td>\n",
              "      <td>9.000000</td>\n",
              "      <td>9.000000</td>\n",
              "      <td>40.200000</td>\n",
              "      <td>46.700000</td>\n",
              "      <td>1.000000</td>\n",
              "      <td>1.000000</td>\n",
              "    </tr>\n",
              "  </tbody>\n",
              "</table>\n",
              "</div>"
            ],
            "text/plain": [
              "          KodeLokasi        SuhuMin  ...  BersaljuHariIni  BersaljuBesok\n",
              "count  109095.000000  109095.000000  ...    109095.000000  109095.000000\n",
              "mean       23.467657      12.196183  ...         0.219937       0.219653\n",
              "std        14.082341       6.356477  ...         0.414205       0.414013\n",
              "min         0.000000      -8.500000  ...         0.000000       0.000000\n",
              "25%        11.000000       7.700000  ...         0.000000       0.000000\n",
              "50%        23.000000      12.100000  ...         0.000000       0.000000\n",
              "75%        35.000000      16.800000  ...         0.000000       0.000000\n",
              "max        48.000000      33.900000  ...         1.000000       1.000000\n",
              "\n",
              "[8 rows x 22 columns]"
            ]
          },
          "metadata": {
            "tags": []
          },
          "execution_count": 169
        }
      ]
    },
    {
      "cell_type": "markdown",
      "metadata": {
        "id": "OkEFH74LwjTm"
      },
      "source": [
        "Dari hasil describe data di atas dapat dilihat bahwa feature yang memiliki outlier adalah: **Hujan**, **Penguapan**, **KecepatanAngin9am**, dan **KecepatanAngin3pm**"
      ]
    },
    {
      "cell_type": "code",
      "metadata": {
        "id": "9XahkHO6xtY3"
      },
      "source": [
        "feature_outlier = ['Hujan', 'Penguapan', 'KecepatanAngin9am', 'KecepatanAngin3pm']"
      ],
      "execution_count": 170,
      "outputs": []
    },
    {
      "cell_type": "code",
      "metadata": {
        "id": "iL1k7GcuZljp",
        "colab": {
          "base_uri": "https://localhost:8080/",
          "height": 592
        },
        "outputId": "d4d316ec-bf78-4ba9-8d7e-a2d0b1bd4e4d"
      },
      "source": [
        "plt.figure(figsize=(15,10))\n",
        "\n",
        "for i in range(len(feature_outlier)):\n",
        "    plt.subplot(2, 2, i+1)\n",
        "    fig = data_train.boxplot(column=feature_outlier[i])\n",
        "    fig.set_title('')\n",
        "    fig.set_ylabel(feature_outlier[i])"
      ],
      "execution_count": 171,
      "outputs": [
        {
          "output_type": "display_data",
          "data": {
            "image/png": "[encoded data removed]",
            "text/plain": [
              "<Figure size 1080x720 with 4 Axes>"
            ]
          },
          "metadata": {
            "tags": [],
            "needs_background": "light"
          }
        }
      ]
    },
    {
      "cell_type": "markdown",
      "metadata": {
        "id": "4IsIqbNK2e3C"
      },
      "source": [
        "Mengatasi Ouliers"
      ]
    },
    {
      "cell_type": "code",
      "metadata": {
        "id": "U2Z9Ygxk2kXD",
        "colab": {
          "base_uri": "https://localhost:8080/"
        },
        "outputId": "0e510e2b-c4c4-4893-ef2a-e1559b206a44"
      },
      "source": [
        "for feature in feature_outlier:\n",
        "    Q1 = data_train[feature].quantile(0.25)\n",
        "    Q3 = data_train[feature].quantile(0.75)\n",
        "    \n",
        "    IQR = Q3 - Q1\n",
        "    Low_fence = Q1 - (IQR * 3)\n",
        "    Up_fence = Q3 + (IQR * 3)\n",
        "    print('Nilai outliers feature {column} adalah < {lowerboundary} dan > {upperboundary}'.format(column=feature, lowerboundary=Low_fence, upperboundary=Up_fence))\n",
        "\n",
        "\n",
        "    # Handle Outlier\n",
        "    data_train[feature] = np.where(data_train[feature]>Up_fence, Up_fence, data_train[feature])\n",
        "    data_train[feature] = np.where(data_train[feature]<Low_fence, Low_fence, data_train[feature])"
      ],
      "execution_count": 172,
      "outputs": [
        {
          "output_type": "stream",
          "text": [
            "Nilai outliers feature Hujan adalah < -3.0 dan > 4.0\n",
            "Nilai outliers feature Penguapan adalah < -0.3873193600875009 dan > 9.849759146783335\n",
            "Nilai outliers feature KecepatanAngin9am adalah < -29.0 dan > 55.0\n",
            "Nilai outliers feature KecepatanAngin3pm adalah < -20.0 dan > 57.0\n"
          ],
          "name": "stdout"
        }
      ]
    },
    {
      "cell_type": "markdown",
      "metadata": {
        "id": "SMjTJwsQePNG"
      },
      "source": [
        "Hasil"
      ]
    },
    {
      "cell_type": "code",
      "metadata": {
        "id": "0CxGPp4n6Sk1",
        "colab": {
          "base_uri": "https://localhost:8080/",
          "height": 592
        },
        "outputId": "8e348a52-d156-41cc-b08c-0489994c35eb"
      },
      "source": [
        "plt.figure(figsize=(15,10))\n",
        "\n",
        "for i in range(len(feature_outlier)):\n",
        "    plt.subplot(2, 2, i+1)\n",
        "    fig = data_train.boxplot(column=feature_outlier[i])\n",
        "    fig.set_title('')\n",
        "    fig.set_ylabel(feature_outlier[i])\n"
      ],
      "execution_count": 173,
      "outputs": [
        {
          "output_type": "display_data",
          "data": {
            "image/png": "[encoded data removed]",
            "text/plain": [
              "<Figure size 1080x720 with 4 Axes>"
            ]
          },
          "metadata": {
            "tags": [],
            "needs_background": "light"
          }
        }
      ]
    },
    {
      "cell_type": "code",
      "metadata": {
        "id": "KMwGy0z9YyLJ",
        "colab": {
          "base_uri": "https://localhost:8080/",
          "height": 317
        },
        "outputId": "0f293e58-360c-46ae-d600-6855e551bb18"
      },
      "source": [
        "data_train.describe()"
      ],
      "execution_count": 174,
      "outputs": [
        {
          "output_type": "execute_result",
          "data": {
            "text/html": [
              "<div>\n",
              "<style scoped>\n",
              "    .dataframe tbody tr th:only-of-type {\n",
              "        vertical-align: middle;\n",
              "    }\n",
              "\n",
              "    .dataframe tbody tr th {\n",
              "        vertical-align: top;\n",
              "    }\n",
              "\n",
              "    .dataframe thead th {\n",
              "        text-align: right;\n",
              "    }\n",
              "</style>\n",
              "<table border=\"1\" class=\"dataframe\">\n",
              "  <thead>\n",
              "    <tr style=\"text-align: right;\">\n",
              "      <th></th>\n",
              "      <th>KodeLokasi</th>\n",
              "      <th>SuhuMin</th>\n",
              "      <th>SuhuMax</th>\n",
              "      <th>Hujan</th>\n",
              "      <th>Penguapan</th>\n",
              "      <th>SinarMatahari</th>\n",
              "      <th>ArahAnginTerkencang</th>\n",
              "      <th>KecepatanAnginTerkencang</th>\n",
              "      <th>ArahAngin9am</th>\n",
              "      <th>ArahAngin3pm</th>\n",
              "      <th>KecepatanAngin9am</th>\n",
              "      <th>KecepatanAngin3pm</th>\n",
              "      <th>Kelembaban9am</th>\n",
              "      <th>Kelembaban3pm</th>\n",
              "      <th>Tekanan9am</th>\n",
              "      <th>Tekanan3pm</th>\n",
              "      <th>Awan9am</th>\n",
              "      <th>Awan3pm</th>\n",
              "      <th>Suhu9am</th>\n",
              "      <th>Suhu3pm</th>\n",
              "      <th>BersaljuHariIni</th>\n",
              "      <th>BersaljuBesok</th>\n",
              "    </tr>\n",
              "  </thead>\n",
              "  <tbody>\n",
              "    <tr>\n",
              "      <th>count</th>\n",
              "      <td>109095.000000</td>\n",
              "      <td>109095.000000</td>\n",
              "      <td>109095.000000</td>\n",
              "      <td>109095.000000</td>\n",
              "      <td>109095.000000</td>\n",
              "      <td>109095.000000</td>\n",
              "      <td>109095.000000</td>\n",
              "      <td>109095.000000</td>\n",
              "      <td>109095.000000</td>\n",
              "      <td>109095.000000</td>\n",
              "      <td>109095.000000</td>\n",
              "      <td>109095.000000</td>\n",
              "      <td>109095.000000</td>\n",
              "      <td>109095.000000</td>\n",
              "      <td>109095.000000</td>\n",
              "      <td>109095.000000</td>\n",
              "      <td>109095.000000</td>\n",
              "      <td>109095.000000</td>\n",
              "      <td>109095.000000</td>\n",
              "      <td>109095.000000</td>\n",
              "      <td>109095.000000</td>\n",
              "      <td>109095.000000</td>\n",
              "    </tr>\n",
              "    <tr>\n",
              "      <th>mean</th>\n",
              "      <td>23.467657</td>\n",
              "      <td>12.196183</td>\n",
              "      <td>23.214819</td>\n",
              "      <td>0.835947</td>\n",
              "      <td>5.225621</td>\n",
              "      <td>7.599527</td>\n",
              "      <td>8.095146</td>\n",
              "      <td>40.032002</td>\n",
              "      <td>7.000642</td>\n",
              "      <td>7.799404</td>\n",
              "      <td>14.047413</td>\n",
              "      <td>18.674031</td>\n",
              "      <td>68.895577</td>\n",
              "      <td>51.567626</td>\n",
              "      <td>1017.647080</td>\n",
              "      <td>1015.253117</td>\n",
              "      <td>4.450893</td>\n",
              "      <td>4.516140</td>\n",
              "      <td>16.991391</td>\n",
              "      <td>21.672771</td>\n",
              "      <td>0.219937</td>\n",
              "      <td>0.219653</td>\n",
              "    </tr>\n",
              "    <tr>\n",
              "      <th>std</th>\n",
              "      <td>14.082341</td>\n",
              "      <td>6.356477</td>\n",
              "      <td>7.076273</td>\n",
              "      <td>1.439662</td>\n",
              "      <td>2.172038</td>\n",
              "      <td>2.731983</td>\n",
              "      <td>4.694516</td>\n",
              "      <td>13.128447</td>\n",
              "      <td>4.514716</td>\n",
              "      <td>4.534291</td>\n",
              "      <td>8.842973</td>\n",
              "      <td>8.718595</td>\n",
              "      <td>18.820426</td>\n",
              "      <td>20.467533</td>\n",
              "      <td>6.737726</td>\n",
              "      <td>6.672616</td>\n",
              "      <td>2.264781</td>\n",
              "      <td>2.092476</td>\n",
              "      <td>6.437697</td>\n",
              "      <td>6.836693</td>\n",
              "      <td>0.414205</td>\n",
              "      <td>0.414013</td>\n",
              "    </tr>\n",
              "    <tr>\n",
              "      <th>min</th>\n",
              "      <td>0.000000</td>\n",
              "      <td>-8.500000</td>\n",
              "      <td>-4.800000</td>\n",
              "      <td>0.000000</td>\n",
              "      <td>0.000000</td>\n",
              "      <td>0.000000</td>\n",
              "      <td>0.000000</td>\n",
              "      <td>7.000000</td>\n",
              "      <td>0.000000</td>\n",
              "      <td>0.000000</td>\n",
              "      <td>0.000000</td>\n",
              "      <td>0.000000</td>\n",
              "      <td>0.000000</td>\n",
              "      <td>0.000000</td>\n",
              "      <td>980.500000</td>\n",
              "      <td>977.100000</td>\n",
              "      <td>0.000000</td>\n",
              "      <td>0.000000</td>\n",
              "      <td>-7.200000</td>\n",
              "      <td>-5.400000</td>\n",
              "      <td>0.000000</td>\n",
              "      <td>0.000000</td>\n",
              "    </tr>\n",
              "    <tr>\n",
              "      <th>25%</th>\n",
              "      <td>11.000000</td>\n",
              "      <td>7.700000</td>\n",
              "      <td>18.000000</td>\n",
              "      <td>0.000000</td>\n",
              "      <td>4.000000</td>\n",
              "      <td>7.599527</td>\n",
              "      <td>4.000000</td>\n",
              "      <td>31.000000</td>\n",
              "      <td>3.000000</td>\n",
              "      <td>4.000000</td>\n",
              "      <td>7.000000</td>\n",
              "      <td>13.000000</td>\n",
              "      <td>57.000000</td>\n",
              "      <td>37.000000</td>\n",
              "      <td>1013.500000</td>\n",
              "      <td>1011.100000</td>\n",
              "      <td>3.000000</td>\n",
              "      <td>4.000000</td>\n",
              "      <td>12.400000</td>\n",
              "      <td>16.700000</td>\n",
              "      <td>0.000000</td>\n",
              "      <td>0.000000</td>\n",
              "    </tr>\n",
              "    <tr>\n",
              "      <th>50%</th>\n",
              "      <td>23.000000</td>\n",
              "      <td>12.100000</td>\n",
              "      <td>22.700000</td>\n",
              "      <td>0.000000</td>\n",
              "      <td>5.462440</td>\n",
              "      <td>7.599527</td>\n",
              "      <td>9.000000</td>\n",
              "      <td>39.000000</td>\n",
              "      <td>7.000000</td>\n",
              "      <td>8.000000</td>\n",
              "      <td>13.000000</td>\n",
              "      <td>18.677579</td>\n",
              "      <td>69.000000</td>\n",
              "      <td>51.567626</td>\n",
              "      <td>1017.647080</td>\n",
              "      <td>1015.253117</td>\n",
              "      <td>4.450893</td>\n",
              "      <td>4.516140</td>\n",
              "      <td>16.800000</td>\n",
              "      <td>21.400000</td>\n",
              "      <td>0.000000</td>\n",
              "      <td>0.000000</td>\n",
              "    </tr>\n",
              "    <tr>\n",
              "      <th>75%</th>\n",
              "      <td>35.000000</td>\n",
              "      <td>16.800000</td>\n",
              "      <td>28.200000</td>\n",
              "      <td>1.000000</td>\n",
              "      <td>5.462440</td>\n",
              "      <td>8.700000</td>\n",
              "      <td>13.000000</td>\n",
              "      <td>46.000000</td>\n",
              "      <td>11.000000</td>\n",
              "      <td>12.000000</td>\n",
              "      <td>19.000000</td>\n",
              "      <td>24.000000</td>\n",
              "      <td>83.000000</td>\n",
              "      <td>65.000000</td>\n",
              "      <td>1021.800000</td>\n",
              "      <td>1019.400000</td>\n",
              "      <td>6.000000</td>\n",
              "      <td>6.000000</td>\n",
              "      <td>21.500000</td>\n",
              "      <td>26.200000</td>\n",
              "      <td>0.000000</td>\n",
              "      <td>0.000000</td>\n",
              "    </tr>\n",
              "    <tr>\n",
              "      <th>max</th>\n",
              "      <td>48.000000</td>\n",
              "      <td>33.900000</td>\n",
              "      <td>47.300000</td>\n",
              "      <td>4.000000</td>\n",
              "      <td>9.849759</td>\n",
              "      <td>14.300000</td>\n",
              "      <td>15.000000</td>\n",
              "      <td>135.000000</td>\n",
              "      <td>15.000000</td>\n",
              "      <td>15.000000</td>\n",
              "      <td>55.000000</td>\n",
              "      <td>57.000000</td>\n",
              "      <td>100.000000</td>\n",
              "      <td>100.000000</td>\n",
              "      <td>1041.000000</td>\n",
              "      <td>1039.600000</td>\n",
              "      <td>9.000000</td>\n",
              "      <td>9.000000</td>\n",
              "      <td>40.200000</td>\n",
              "      <td>46.700000</td>\n",
              "      <td>1.000000</td>\n",
              "      <td>1.000000</td>\n",
              "    </tr>\n",
              "  </tbody>\n",
              "</table>\n",
              "</div>"
            ],
            "text/plain": [
              "          KodeLokasi        SuhuMin  ...  BersaljuHariIni  BersaljuBesok\n",
              "count  109095.000000  109095.000000  ...    109095.000000  109095.000000\n",
              "mean       23.467657      12.196183  ...         0.219937       0.219653\n",
              "std        14.082341       6.356477  ...         0.414205       0.414013\n",
              "min         0.000000      -8.500000  ...         0.000000       0.000000\n",
              "25%        11.000000       7.700000  ...         0.000000       0.000000\n",
              "50%        23.000000      12.100000  ...         0.000000       0.000000\n",
              "75%        35.000000      16.800000  ...         0.000000       0.000000\n",
              "max        48.000000      33.900000  ...         1.000000       1.000000\n",
              "\n",
              "[8 rows x 22 columns]"
            ]
          },
          "metadata": {
            "tags": []
          },
          "execution_count": 174
        }
      ]
    },
    {
      "cell_type": "markdown",
      "metadata": {
        "id": "TsKCiggTbKpV"
      },
      "source": [
        "####Data Test"
      ]
    },
    {
      "cell_type": "code",
      "metadata": {
        "id": "ooKzbssRbO8s",
        "colab": {
          "base_uri": "https://localhost:8080/",
          "height": 317
        },
        "outputId": "fd9d282b-e819-42c2-a909-0f1724293fc2"
      },
      "source": [
        "data_test.describe()"
      ],
      "execution_count": 175,
      "outputs": [
        {
          "output_type": "execute_result",
          "data": {
            "text/html": [
              "<div>\n",
              "<style scoped>\n",
              "    .dataframe tbody tr th:only-of-type {\n",
              "        vertical-align: middle;\n",
              "    }\n",
              "\n",
              "    .dataframe tbody tr th {\n",
              "        vertical-align: top;\n",
              "    }\n",
              "\n",
              "    .dataframe thead th {\n",
              "        text-align: right;\n",
              "    }\n",
              "</style>\n",
              "<table border=\"1\" class=\"dataframe\">\n",
              "  <thead>\n",
              "    <tr style=\"text-align: right;\">\n",
              "      <th></th>\n",
              "      <th>KodeLokasi</th>\n",
              "      <th>SuhuMin</th>\n",
              "      <th>SuhuMax</th>\n",
              "      <th>Hujan</th>\n",
              "      <th>Penguapan</th>\n",
              "      <th>SinarMatahari</th>\n",
              "      <th>ArahAnginTerkencang</th>\n",
              "      <th>KecepatanAnginTerkencang</th>\n",
              "      <th>ArahAngin9am</th>\n",
              "      <th>ArahAngin3pm</th>\n",
              "      <th>KecepatanAngin9am</th>\n",
              "      <th>KecepatanAngin3pm</th>\n",
              "      <th>Kelembaban9am</th>\n",
              "      <th>Kelembaban3pm</th>\n",
              "      <th>Tekanan9am</th>\n",
              "      <th>Tekanan3pm</th>\n",
              "      <th>Awan9am</th>\n",
              "      <th>Awan3pm</th>\n",
              "      <th>Suhu9am</th>\n",
              "      <th>Suhu3pm</th>\n",
              "      <th>BersaljuHariIni</th>\n",
              "      <th>BersaljuBesok</th>\n",
              "    </tr>\n",
              "  </thead>\n",
              "  <tbody>\n",
              "    <tr>\n",
              "      <th>count</th>\n",
              "      <td>18182.000000</td>\n",
              "      <td>18182.000000</td>\n",
              "      <td>18182.000000</td>\n",
              "      <td>18182.000000</td>\n",
              "      <td>18182.000000</td>\n",
              "      <td>18182.000000</td>\n",
              "      <td>18182.000000</td>\n",
              "      <td>18182.000000</td>\n",
              "      <td>18182.000000</td>\n",
              "      <td>18182.000000</td>\n",
              "      <td>18182.000000</td>\n",
              "      <td>18182.000000</td>\n",
              "      <td>18182.000000</td>\n",
              "      <td>18182.000000</td>\n",
              "      <td>18182.000000</td>\n",
              "      <td>18182.000000</td>\n",
              "      <td>18182.000000</td>\n",
              "      <td>18182.000000</td>\n",
              "      <td>18182.000000</td>\n",
              "      <td>18182.000000</td>\n",
              "      <td>18182.000000</td>\n",
              "      <td>18182.000000</td>\n",
              "    </tr>\n",
              "    <tr>\n",
              "      <th>mean</th>\n",
              "      <td>23.335332</td>\n",
              "      <td>12.233158</td>\n",
              "      <td>23.295604</td>\n",
              "      <td>2.333560</td>\n",
              "      <td>5.509646</td>\n",
              "      <td>7.630135</td>\n",
              "      <td>7.886206</td>\n",
              "      <td>39.974095</td>\n",
              "      <td>6.985260</td>\n",
              "      <td>7.805797</td>\n",
              "      <td>13.971864</td>\n",
              "      <td>18.585540</td>\n",
              "      <td>68.791676</td>\n",
              "      <td>51.438811</td>\n",
              "      <td>1017.561660</td>\n",
              "      <td>1015.181064</td>\n",
              "      <td>4.449820</td>\n",
              "      <td>4.498322</td>\n",
              "      <td>17.048945</td>\n",
              "      <td>21.774408</td>\n",
              "      <td>0.218073</td>\n",
              "      <td>0.216643</td>\n",
              "    </tr>\n",
              "    <tr>\n",
              "      <th>std</th>\n",
              "      <td>14.073773</td>\n",
              "      <td>6.403795</td>\n",
              "      <td>7.124431</td>\n",
              "      <td>8.231377</td>\n",
              "      <td>3.134307</td>\n",
              "      <td>2.738876</td>\n",
              "      <td>4.531075</td>\n",
              "      <td>13.010395</td>\n",
              "      <td>4.508101</td>\n",
              "      <td>4.542106</td>\n",
              "      <td>8.780218</td>\n",
              "      <td>8.662996</td>\n",
              "      <td>18.983937</td>\n",
              "      <td>20.483376</td>\n",
              "      <td>6.770781</td>\n",
              "      <td>6.702552</td>\n",
              "      <td>2.262647</td>\n",
              "      <td>2.093117</td>\n",
              "      <td>6.485141</td>\n",
              "      <td>6.892750</td>\n",
              "      <td>0.412948</td>\n",
              "      <td>0.411969</td>\n",
              "    </tr>\n",
              "    <tr>\n",
              "      <th>min</th>\n",
              "      <td>0.000000</td>\n",
              "      <td>-7.600000</td>\n",
              "      <td>-2.500000</td>\n",
              "      <td>0.000000</td>\n",
              "      <td>0.000000</td>\n",
              "      <td>0.000000</td>\n",
              "      <td>0.000000</td>\n",
              "      <td>6.000000</td>\n",
              "      <td>0.000000</td>\n",
              "      <td>0.000000</td>\n",
              "      <td>0.000000</td>\n",
              "      <td>0.000000</td>\n",
              "      <td>2.000000</td>\n",
              "      <td>1.000000</td>\n",
              "      <td>982.300000</td>\n",
              "      <td>984.500000</td>\n",
              "      <td>0.000000</td>\n",
              "      <td>0.000000</td>\n",
              "      <td>-5.200000</td>\n",
              "      <td>-3.700000</td>\n",
              "      <td>0.000000</td>\n",
              "      <td>0.000000</td>\n",
              "    </tr>\n",
              "    <tr>\n",
              "      <th>25%</th>\n",
              "      <td>11.000000</td>\n",
              "      <td>7.700000</td>\n",
              "      <td>18.000000</td>\n",
              "      <td>0.000000</td>\n",
              "      <td>4.200000</td>\n",
              "      <td>7.630135</td>\n",
              "      <td>4.000000</td>\n",
              "      <td>31.000000</td>\n",
              "      <td>3.000000</td>\n",
              "      <td>4.000000</td>\n",
              "      <td>7.000000</td>\n",
              "      <td>13.000000</td>\n",
              "      <td>57.000000</td>\n",
              "      <td>37.000000</td>\n",
              "      <td>1013.500000</td>\n",
              "      <td>1010.900000</td>\n",
              "      <td>3.000000</td>\n",
              "      <td>4.000000</td>\n",
              "      <td>12.400000</td>\n",
              "      <td>16.800000</td>\n",
              "      <td>0.000000</td>\n",
              "      <td>0.000000</td>\n",
              "    </tr>\n",
              "    <tr>\n",
              "      <th>50%</th>\n",
              "      <td>23.000000</td>\n",
              "      <td>12.100000</td>\n",
              "      <td>22.800000</td>\n",
              "      <td>0.000000</td>\n",
              "      <td>5.509646</td>\n",
              "      <td>7.630135</td>\n",
              "      <td>9.000000</td>\n",
              "      <td>39.000000</td>\n",
              "      <td>7.000000</td>\n",
              "      <td>8.000000</td>\n",
              "      <td>13.000000</td>\n",
              "      <td>18.585540</td>\n",
              "      <td>69.000000</td>\n",
              "      <td>51.438811</td>\n",
              "      <td>1017.561660</td>\n",
              "      <td>1015.181064</td>\n",
              "      <td>4.449820</td>\n",
              "      <td>4.498322</td>\n",
              "      <td>16.900000</td>\n",
              "      <td>21.400000</td>\n",
              "      <td>0.000000</td>\n",
              "      <td>0.000000</td>\n",
              "    </tr>\n",
              "    <tr>\n",
              "      <th>75%</th>\n",
              "      <td>35.000000</td>\n",
              "      <td>16.900000</td>\n",
              "      <td>28.300000</td>\n",
              "      <td>1.000000</td>\n",
              "      <td>5.509646</td>\n",
              "      <td>8.700000</td>\n",
              "      <td>11.000000</td>\n",
              "      <td>46.000000</td>\n",
              "      <td>11.000000</td>\n",
              "      <td>12.000000</td>\n",
              "      <td>19.000000</td>\n",
              "      <td>24.000000</td>\n",
              "      <td>83.000000</td>\n",
              "      <td>65.000000</td>\n",
              "      <td>1021.700000</td>\n",
              "      <td>1019.300000</td>\n",
              "      <td>6.000000</td>\n",
              "      <td>6.000000</td>\n",
              "      <td>21.600000</td>\n",
              "      <td>26.400000</td>\n",
              "      <td>0.000000</td>\n",
              "      <td>0.000000</td>\n",
              "    </tr>\n",
              "    <tr>\n",
              "      <th>max</th>\n",
              "      <td>48.000000</td>\n",
              "      <td>31.400000</td>\n",
              "      <td>48.100000</td>\n",
              "      <td>247.200000</td>\n",
              "      <td>68.800000</td>\n",
              "      <td>14.500000</td>\n",
              "      <td>15.000000</td>\n",
              "      <td>122.000000</td>\n",
              "      <td>15.000000</td>\n",
              "      <td>15.000000</td>\n",
              "      <td>83.000000</td>\n",
              "      <td>83.000000</td>\n",
              "      <td>100.000000</td>\n",
              "      <td>100.000000</td>\n",
              "      <td>1040.600000</td>\n",
              "      <td>1038.400000</td>\n",
              "      <td>8.000000</td>\n",
              "      <td>8.000000</td>\n",
              "      <td>37.700000</td>\n",
              "      <td>46.100000</td>\n",
              "      <td>1.000000</td>\n",
              "      <td>1.000000</td>\n",
              "    </tr>\n",
              "  </tbody>\n",
              "</table>\n",
              "</div>"
            ],
            "text/plain": [
              "         KodeLokasi       SuhuMin  ...  BersaljuHariIni  BersaljuBesok\n",
              "count  18182.000000  18182.000000  ...     18182.000000   18182.000000\n",
              "mean      23.335332     12.233158  ...         0.218073       0.216643\n",
              "std       14.073773      6.403795  ...         0.412948       0.411969\n",
              "min        0.000000     -7.600000  ...         0.000000       0.000000\n",
              "25%       11.000000      7.700000  ...         0.000000       0.000000\n",
              "50%       23.000000     12.100000  ...         0.000000       0.000000\n",
              "75%       35.000000     16.900000  ...         0.000000       0.000000\n",
              "max       48.000000     31.400000  ...         1.000000       1.000000\n",
              "\n",
              "[8 rows x 22 columns]"
            ]
          },
          "metadata": {
            "tags": []
          },
          "execution_count": 175
        }
      ]
    },
    {
      "cell_type": "markdown",
      "metadata": {
        "id": "aRVrIL3EbaFD"
      },
      "source": [
        "Dari hasil describe data test di atas, juga terdapat hasil yang sama dengan data train yaitu bahwa feature yang memiliki outlier adalah: **Hujan**, **Penguapan**, **KecepatanAnginTerkencang**, **KecepatanAngin9am**, dan **KecepatanAngin3pm**"
      ]
    },
    {
      "cell_type": "code",
      "metadata": {
        "id": "SWmD33U9b7qG"
      },
      "source": [
        "feature_outlier_test = ['Hujan', 'Penguapan', 'KecepatanAngin9am', 'KecepatanAngin3pm']"
      ],
      "execution_count": 176,
      "outputs": []
    },
    {
      "cell_type": "code",
      "metadata": {
        "id": "5jphH_p4cBUV",
        "colab": {
          "base_uri": "https://localhost:8080/",
          "height": 592
        },
        "outputId": "a18f2a2b-7ddf-476c-ab3d-866b93bd98e1"
      },
      "source": [
        "plt.figure(figsize=(15,10))\n",
        "\n",
        "for i in range(len(feature_outlier_test)):\n",
        "    plt.subplot(2, 2, i+1)\n",
        "    fig = data_test.boxplot(column=feature_outlier_test[i])\n",
        "    fig.set_title('')\n",
        "    fig.set_ylabel(feature_outlier_test[i])"
      ],
      "execution_count": 177,
      "outputs": [
        {
          "output_type": "display_data",
          "data": {
            "image/png": "[encoded data removed]",
            "text/plain": [
              "<Figure size 1080x720 with 4 Axes>"
            ]
          },
          "metadata": {
            "tags": [],
            "needs_background": "light"
          }
        }
      ]
    },
    {
      "cell_type": "markdown",
      "metadata": {
        "id": "oARbhmQTeSub"
      },
      "source": [
        "Mengatasi Outliers"
      ]
    },
    {
      "cell_type": "code",
      "metadata": {
        "id": "Qz3t_YsWdta_",
        "colab": {
          "base_uri": "https://localhost:8080/"
        },
        "outputId": "d56716c3-7bf4-4bb1-9a13-a276c9699ab6"
      },
      "source": [
        "for feature in feature_outlier_test:\n",
        "    Q1 = data_test[feature].quantile(0.25)\n",
        "    Q3 = data_test[feature].quantile(0.75)\n",
        "    \n",
        "    IQR = Q3 - Q1\n",
        "    Low_fence = Q1 - (IQR * 3)\n",
        "    Up_fence = Q3 + (IQR * 3)\n",
        "    print('Nilai outliers feature {column} adalah < {lowerboundary} dan > {upperboundary}'.format(column=feature, lowerboundary=Low_fence, upperboundary=Up_fence))\n",
        "\n",
        "\n",
        "    # Handle Outlier\n",
        "    data_test[feature] = np.where(data_test[feature]>Up_fence, Up_fence, data_test[feature])\n",
        "    data_test[feature] = np.where(data_test[feature]<Low_fence, Low_fence, data_test[feature])"
      ],
      "execution_count": 178,
      "outputs": [
        {
          "output_type": "stream",
          "text": [
            "Nilai outliers feature Hujan adalah < -3.0 dan > 4.0\n",
            "Nilai outliers feature Penguapan adalah < 0.2710633352702443 dan > 9.438582219639674\n",
            "Nilai outliers feature KecepatanAngin9am adalah < -29.0 dan > 55.0\n",
            "Nilai outliers feature KecepatanAngin3pm adalah < -20.0 dan > 57.0\n"
          ],
          "name": "stdout"
        }
      ]
    },
    {
      "cell_type": "markdown",
      "metadata": {
        "id": "G-vffdYbeWX_"
      },
      "source": [
        "Hasil"
      ]
    },
    {
      "cell_type": "code",
      "metadata": {
        "id": "puSVAqeAd5tg",
        "colab": {
          "base_uri": "https://localhost:8080/",
          "height": 592
        },
        "outputId": "5fd1b874-18c9-4bd8-8bd1-cfed8ee39c6e"
      },
      "source": [
        "plt.figure(figsize=(15,10))\n",
        "\n",
        "for i in range(len(feature_outlier_test)):\n",
        "    plt.subplot(2, 2, i+1)\n",
        "    fig = data_test.boxplot(column=feature_outlier_test[i])\n",
        "    fig.set_title('')\n",
        "    fig.set_ylabel(feature_outlier_test[i])"
      ],
      "execution_count": 179,
      "outputs": [
        {
          "output_type": "display_data",
          "data": {
            "image/png": "[encoded data removed]",
            "text/plain": [
              "<Figure size 1080x720 with 4 Axes>"
            ]
          },
          "metadata": {
            "tags": [],
            "needs_background": "light"
          }
        }
      ]
    },
    {
      "cell_type": "code",
      "metadata": {
        "id": "fw31PMa4d8Wk",
        "colab": {
          "base_uri": "https://localhost:8080/",
          "height": 317
        },
        "outputId": "764f2563-1c97-4f73-9db2-0d3022ee6e28"
      },
      "source": [
        "data_test.describe()"
      ],
      "execution_count": 180,
      "outputs": [
        {
          "output_type": "execute_result",
          "data": {
            "text/html": [
              "<div>\n",
              "<style scoped>\n",
              "    .dataframe tbody tr th:only-of-type {\n",
              "        vertical-align: middle;\n",
              "    }\n",
              "\n",
              "    .dataframe tbody tr th {\n",
              "        vertical-align: top;\n",
              "    }\n",
              "\n",
              "    .dataframe thead th {\n",
              "        text-align: right;\n",
              "    }\n",
              "</style>\n",
              "<table border=\"1\" class=\"dataframe\">\n",
              "  <thead>\n",
              "    <tr style=\"text-align: right;\">\n",
              "      <th></th>\n",
              "      <th>KodeLokasi</th>\n",
              "      <th>SuhuMin</th>\n",
              "      <th>SuhuMax</th>\n",
              "      <th>Hujan</th>\n",
              "      <th>Penguapan</th>\n",
              "      <th>SinarMatahari</th>\n",
              "      <th>ArahAnginTerkencang</th>\n",
              "      <th>KecepatanAnginTerkencang</th>\n",
              "      <th>ArahAngin9am</th>\n",
              "      <th>ArahAngin3pm</th>\n",
              "      <th>KecepatanAngin9am</th>\n",
              "      <th>KecepatanAngin3pm</th>\n",
              "      <th>Kelembaban9am</th>\n",
              "      <th>Kelembaban3pm</th>\n",
              "      <th>Tekanan9am</th>\n",
              "      <th>Tekanan3pm</th>\n",
              "      <th>Awan9am</th>\n",
              "      <th>Awan3pm</th>\n",
              "      <th>Suhu9am</th>\n",
              "      <th>Suhu3pm</th>\n",
              "      <th>BersaljuHariIni</th>\n",
              "      <th>BersaljuBesok</th>\n",
              "    </tr>\n",
              "  </thead>\n",
              "  <tbody>\n",
              "    <tr>\n",
              "      <th>count</th>\n",
              "      <td>18182.000000</td>\n",
              "      <td>18182.000000</td>\n",
              "      <td>18182.000000</td>\n",
              "      <td>18182.000000</td>\n",
              "      <td>18182.000000</td>\n",
              "      <td>18182.000000</td>\n",
              "      <td>18182.000000</td>\n",
              "      <td>18182.000000</td>\n",
              "      <td>18182.000000</td>\n",
              "      <td>18182.000000</td>\n",
              "      <td>18182.000000</td>\n",
              "      <td>18182.00000</td>\n",
              "      <td>18182.000000</td>\n",
              "      <td>18182.000000</td>\n",
              "      <td>18182.000000</td>\n",
              "      <td>18182.000000</td>\n",
              "      <td>18182.000000</td>\n",
              "      <td>18182.000000</td>\n",
              "      <td>18182.000000</td>\n",
              "      <td>18182.000000</td>\n",
              "      <td>18182.000000</td>\n",
              "      <td>18182.000000</td>\n",
              "    </tr>\n",
              "    <tr>\n",
              "      <th>mean</th>\n",
              "      <td>23.335332</td>\n",
              "      <td>12.233158</td>\n",
              "      <td>23.295604</td>\n",
              "      <td>0.819167</td>\n",
              "      <td>5.244918</td>\n",
              "      <td>7.630135</td>\n",
              "      <td>7.886206</td>\n",
              "      <td>39.974095</td>\n",
              "      <td>6.985260</td>\n",
              "      <td>7.805797</td>\n",
              "      <td>13.967519</td>\n",
              "      <td>18.58169</td>\n",
              "      <td>68.791676</td>\n",
              "      <td>51.438811</td>\n",
              "      <td>1017.561660</td>\n",
              "      <td>1015.181064</td>\n",
              "      <td>4.449820</td>\n",
              "      <td>4.498322</td>\n",
              "      <td>17.048945</td>\n",
              "      <td>21.774408</td>\n",
              "      <td>0.218073</td>\n",
              "      <td>0.216643</td>\n",
              "    </tr>\n",
              "    <tr>\n",
              "      <th>std</th>\n",
              "      <td>14.073773</td>\n",
              "      <td>6.403795</td>\n",
              "      <td>7.124431</td>\n",
              "      <td>1.426427</td>\n",
              "      <td>2.114759</td>\n",
              "      <td>2.738876</td>\n",
              "      <td>4.531075</td>\n",
              "      <td>13.010395</td>\n",
              "      <td>4.508101</td>\n",
              "      <td>4.542106</td>\n",
              "      <td>8.756287</td>\n",
              "      <td>8.64294</td>\n",
              "      <td>18.983937</td>\n",
              "      <td>20.483376</td>\n",
              "      <td>6.770781</td>\n",
              "      <td>6.702552</td>\n",
              "      <td>2.262647</td>\n",
              "      <td>2.093117</td>\n",
              "      <td>6.485141</td>\n",
              "      <td>6.892750</td>\n",
              "      <td>0.412948</td>\n",
              "      <td>0.411969</td>\n",
              "    </tr>\n",
              "    <tr>\n",
              "      <th>min</th>\n",
              "      <td>0.000000</td>\n",
              "      <td>-7.600000</td>\n",
              "      <td>-2.500000</td>\n",
              "      <td>0.000000</td>\n",
              "      <td>0.271063</td>\n",
              "      <td>0.000000</td>\n",
              "      <td>0.000000</td>\n",
              "      <td>6.000000</td>\n",
              "      <td>0.000000</td>\n",
              "      <td>0.000000</td>\n",
              "      <td>0.000000</td>\n",
              "      <td>0.00000</td>\n",
              "      <td>2.000000</td>\n",
              "      <td>1.000000</td>\n",
              "      <td>982.300000</td>\n",
              "      <td>984.500000</td>\n",
              "      <td>0.000000</td>\n",
              "      <td>0.000000</td>\n",
              "      <td>-5.200000</td>\n",
              "      <td>-3.700000</td>\n",
              "      <td>0.000000</td>\n",
              "      <td>0.000000</td>\n",
              "    </tr>\n",
              "    <tr>\n",
              "      <th>25%</th>\n",
              "      <td>11.000000</td>\n",
              "      <td>7.700000</td>\n",
              "      <td>18.000000</td>\n",
              "      <td>0.000000</td>\n",
              "      <td>4.200000</td>\n",
              "      <td>7.630135</td>\n",
              "      <td>4.000000</td>\n",
              "      <td>31.000000</td>\n",
              "      <td>3.000000</td>\n",
              "      <td>4.000000</td>\n",
              "      <td>7.000000</td>\n",
              "      <td>13.00000</td>\n",
              "      <td>57.000000</td>\n",
              "      <td>37.000000</td>\n",
              "      <td>1013.500000</td>\n",
              "      <td>1010.900000</td>\n",
              "      <td>3.000000</td>\n",
              "      <td>4.000000</td>\n",
              "      <td>12.400000</td>\n",
              "      <td>16.800000</td>\n",
              "      <td>0.000000</td>\n",
              "      <td>0.000000</td>\n",
              "    </tr>\n",
              "    <tr>\n",
              "      <th>50%</th>\n",
              "      <td>23.000000</td>\n",
              "      <td>12.100000</td>\n",
              "      <td>22.800000</td>\n",
              "      <td>0.000000</td>\n",
              "      <td>5.509646</td>\n",
              "      <td>7.630135</td>\n",
              "      <td>9.000000</td>\n",
              "      <td>39.000000</td>\n",
              "      <td>7.000000</td>\n",
              "      <td>8.000000</td>\n",
              "      <td>13.000000</td>\n",
              "      <td>18.58554</td>\n",
              "      <td>69.000000</td>\n",
              "      <td>51.438811</td>\n",
              "      <td>1017.561660</td>\n",
              "      <td>1015.181064</td>\n",
              "      <td>4.449820</td>\n",
              "      <td>4.498322</td>\n",
              "      <td>16.900000</td>\n",
              "      <td>21.400000</td>\n",
              "      <td>0.000000</td>\n",
              "      <td>0.000000</td>\n",
              "    </tr>\n",
              "    <tr>\n",
              "      <th>75%</th>\n",
              "      <td>35.000000</td>\n",
              "      <td>16.900000</td>\n",
              "      <td>28.300000</td>\n",
              "      <td>1.000000</td>\n",
              "      <td>5.509646</td>\n",
              "      <td>8.700000</td>\n",
              "      <td>11.000000</td>\n",
              "      <td>46.000000</td>\n",
              "      <td>11.000000</td>\n",
              "      <td>12.000000</td>\n",
              "      <td>19.000000</td>\n",
              "      <td>24.00000</td>\n",
              "      <td>83.000000</td>\n",
              "      <td>65.000000</td>\n",
              "      <td>1021.700000</td>\n",
              "      <td>1019.300000</td>\n",
              "      <td>6.000000</td>\n",
              "      <td>6.000000</td>\n",
              "      <td>21.600000</td>\n",
              "      <td>26.400000</td>\n",
              "      <td>0.000000</td>\n",
              "      <td>0.000000</td>\n",
              "    </tr>\n",
              "    <tr>\n",
              "      <th>max</th>\n",
              "      <td>48.000000</td>\n",
              "      <td>31.400000</td>\n",
              "      <td>48.100000</td>\n",
              "      <td>4.000000</td>\n",
              "      <td>9.438582</td>\n",
              "      <td>14.500000</td>\n",
              "      <td>15.000000</td>\n",
              "      <td>122.000000</td>\n",
              "      <td>15.000000</td>\n",
              "      <td>15.000000</td>\n",
              "      <td>55.000000</td>\n",
              "      <td>57.00000</td>\n",
              "      <td>100.000000</td>\n",
              "      <td>100.000000</td>\n",
              "      <td>1040.600000</td>\n",
              "      <td>1038.400000</td>\n",
              "      <td>8.000000</td>\n",
              "      <td>8.000000</td>\n",
              "      <td>37.700000</td>\n",
              "      <td>46.100000</td>\n",
              "      <td>1.000000</td>\n",
              "      <td>1.000000</td>\n",
              "    </tr>\n",
              "  </tbody>\n",
              "</table>\n",
              "</div>"
            ],
            "text/plain": [
              "         KodeLokasi       SuhuMin  ...  BersaljuHariIni  BersaljuBesok\n",
              "count  18182.000000  18182.000000  ...     18182.000000   18182.000000\n",
              "mean      23.335332     12.233158  ...         0.218073       0.216643\n",
              "std       14.073773      6.403795  ...         0.412948       0.411969\n",
              "min        0.000000     -7.600000  ...         0.000000       0.000000\n",
              "25%       11.000000      7.700000  ...         0.000000       0.000000\n",
              "50%       23.000000     12.100000  ...         0.000000       0.000000\n",
              "75%       35.000000     16.900000  ...         0.000000       0.000000\n",
              "max       48.000000     31.400000  ...         1.000000       1.000000\n",
              "\n",
              "[8 rows x 22 columns]"
            ]
          },
          "metadata": {
            "tags": []
          },
          "execution_count": 180
        }
      ]
    },
    {
      "cell_type": "markdown",
      "metadata": {
        "id": "ZcRGyTwc0s2G"
      },
      "source": [
        "###Scaling"
      ]
    },
    {
      "cell_type": "markdown",
      "metadata": {
        "id": "6agBdYL60wB2"
      },
      "source": [
        "Scaling pada feature menggunakan metode Min Max Scaling"
      ]
    },
    {
      "cell_type": "code",
      "metadata": {
        "id": "_V7T73ds0uz8",
        "colab": {
          "base_uri": "https://localhost:8080/",
          "height": 224
        },
        "outputId": "93bfefaf-3cd9-4a14-9b33-f7b31ab7539d"
      },
      "source": [
        "# Scaling pada data train\n",
        "data_train = (data_train - data_train.min()) / (data_train.max() - data_train.min())\n",
        "data_train.head(5)"
      ],
      "execution_count": 181,
      "outputs": [
        {
          "output_type": "execute_result",
          "data": {
            "text/html": [
              "<div>\n",
              "<style scoped>\n",
              "    .dataframe tbody tr th:only-of-type {\n",
              "        vertical-align: middle;\n",
              "    }\n",
              "\n",
              "    .dataframe tbody tr th {\n",
              "        vertical-align: top;\n",
              "    }\n",
              "\n",
              "    .dataframe thead th {\n",
              "        text-align: right;\n",
              "    }\n",
              "</style>\n",
              "<table border=\"1\" class=\"dataframe\">\n",
              "  <thead>\n",
              "    <tr style=\"text-align: right;\">\n",
              "      <th></th>\n",
              "      <th>KodeLokasi</th>\n",
              "      <th>SuhuMin</th>\n",
              "      <th>SuhuMax</th>\n",
              "      <th>Hujan</th>\n",
              "      <th>Penguapan</th>\n",
              "      <th>SinarMatahari</th>\n",
              "      <th>ArahAnginTerkencang</th>\n",
              "      <th>KecepatanAnginTerkencang</th>\n",
              "      <th>ArahAngin9am</th>\n",
              "      <th>ArahAngin3pm</th>\n",
              "      <th>KecepatanAngin9am</th>\n",
              "      <th>KecepatanAngin3pm</th>\n",
              "      <th>Kelembaban9am</th>\n",
              "      <th>Kelembaban3pm</th>\n",
              "      <th>Tekanan9am</th>\n",
              "      <th>Tekanan3pm</th>\n",
              "      <th>Awan9am</th>\n",
              "      <th>Awan3pm</th>\n",
              "      <th>Suhu9am</th>\n",
              "      <th>Suhu3pm</th>\n",
              "      <th>BersaljuHariIni</th>\n",
              "      <th>BersaljuBesok</th>\n",
              "    </tr>\n",
              "  </thead>\n",
              "  <tbody>\n",
              "    <tr>\n",
              "      <th>0</th>\n",
              "      <td>0.687500</td>\n",
              "      <td>0.445755</td>\n",
              "      <td>0.389635</td>\n",
              "      <td>1.0</td>\n",
              "      <td>0.554576</td>\n",
              "      <td>0.531435</td>\n",
              "      <td>1.000000</td>\n",
              "      <td>0.132812</td>\n",
              "      <td>0.2</td>\n",
              "      <td>1.000000</td>\n",
              "      <td>0.000000</td>\n",
              "      <td>0.228070</td>\n",
              "      <td>0.78</td>\n",
              "      <td>0.76</td>\n",
              "      <td>0.654545</td>\n",
              "      <td>0.66240</td>\n",
              "      <td>0.494544</td>\n",
              "      <td>0.501793</td>\n",
              "      <td>0.428270</td>\n",
              "      <td>0.391555</td>\n",
              "      <td>1.0</td>\n",
              "      <td>0.0</td>\n",
              "    </tr>\n",
              "    <tr>\n",
              "      <th>1</th>\n",
              "      <td>0.020833</td>\n",
              "      <td>0.412736</td>\n",
              "      <td>0.418426</td>\n",
              "      <td>1.0</td>\n",
              "      <td>0.263966</td>\n",
              "      <td>0.517483</td>\n",
              "      <td>0.866667</td>\n",
              "      <td>0.258063</td>\n",
              "      <td>0.8</td>\n",
              "      <td>0.933333</td>\n",
              "      <td>0.236364</td>\n",
              "      <td>0.350877</td>\n",
              "      <td>0.80</td>\n",
              "      <td>0.61</td>\n",
              "      <td>0.573554</td>\n",
              "      <td>0.60000</td>\n",
              "      <td>0.777778</td>\n",
              "      <td>0.555556</td>\n",
              "      <td>0.402954</td>\n",
              "      <td>0.401152</td>\n",
              "      <td>1.0</td>\n",
              "      <td>1.0</td>\n",
              "    </tr>\n",
              "    <tr>\n",
              "      <th>2</th>\n",
              "      <td>0.833333</td>\n",
              "      <td>0.629717</td>\n",
              "      <td>0.706334</td>\n",
              "      <td>0.0</td>\n",
              "      <td>0.554576</td>\n",
              "      <td>0.531435</td>\n",
              "      <td>0.133333</td>\n",
              "      <td>0.289062</td>\n",
              "      <td>0.6</td>\n",
              "      <td>0.600000</td>\n",
              "      <td>0.272727</td>\n",
              "      <td>0.456140</td>\n",
              "      <td>0.62</td>\n",
              "      <td>0.42</td>\n",
              "      <td>0.614001</td>\n",
              "      <td>0.61045</td>\n",
              "      <td>0.494544</td>\n",
              "      <td>0.501793</td>\n",
              "      <td>0.654008</td>\n",
              "      <td>0.671785</td>\n",
              "      <td>0.0</td>\n",
              "      <td>0.0</td>\n",
              "    </tr>\n",
              "    <tr>\n",
              "      <th>3</th>\n",
              "      <td>0.604167</td>\n",
              "      <td>0.372642</td>\n",
              "      <td>0.562380</td>\n",
              "      <td>0.0</td>\n",
              "      <td>0.852813</td>\n",
              "      <td>0.727273</td>\n",
              "      <td>0.733333</td>\n",
              "      <td>0.367188</td>\n",
              "      <td>0.2</td>\n",
              "      <td>0.800000</td>\n",
              "      <td>0.236364</td>\n",
              "      <td>0.333333</td>\n",
              "      <td>0.25</td>\n",
              "      <td>0.17</td>\n",
              "      <td>0.639669</td>\n",
              "      <td>0.63680</td>\n",
              "      <td>0.111111</td>\n",
              "      <td>0.777778</td>\n",
              "      <td>0.474684</td>\n",
              "      <td>0.548944</td>\n",
              "      <td>0.0</td>\n",
              "      <td>0.0</td>\n",
              "    </tr>\n",
              "    <tr>\n",
              "      <th>4</th>\n",
              "      <td>0.958333</td>\n",
              "      <td>0.339623</td>\n",
              "      <td>0.481766</td>\n",
              "      <td>0.0</td>\n",
              "      <td>0.365491</td>\n",
              "      <td>0.881119</td>\n",
              "      <td>0.200000</td>\n",
              "      <td>0.234375</td>\n",
              "      <td>0.4</td>\n",
              "      <td>0.133333</td>\n",
              "      <td>0.400000</td>\n",
              "      <td>0.333333</td>\n",
              "      <td>0.55</td>\n",
              "      <td>0.48</td>\n",
              "      <td>0.647934</td>\n",
              "      <td>0.60160</td>\n",
              "      <td>0.222222</td>\n",
              "      <td>0.666667</td>\n",
              "      <td>0.413502</td>\n",
              "      <td>0.451056</td>\n",
              "      <td>0.0</td>\n",
              "      <td>0.0</td>\n",
              "    </tr>\n",
              "  </tbody>\n",
              "</table>\n",
              "</div>"
            ],
            "text/plain": [
              "   KodeLokasi   SuhuMin   SuhuMax  ...   Suhu3pm  BersaljuHariIni  BersaljuBesok\n",
              "0    0.687500  0.445755  0.389635  ...  0.391555              1.0            0.0\n",
              "1    0.020833  0.412736  0.418426  ...  0.401152              1.0            1.0\n",
              "2    0.833333  0.629717  0.706334  ...  0.671785              0.0            0.0\n",
              "3    0.604167  0.372642  0.562380  ...  0.548944              0.0            0.0\n",
              "4    0.958333  0.339623  0.481766  ...  0.451056              0.0            0.0\n",
              "\n",
              "[5 rows x 22 columns]"
            ]
          },
          "metadata": {
            "tags": []
          },
          "execution_count": 181
        }
      ]
    },
    {
      "cell_type": "code",
      "metadata": {
        "id": "R8Rus2Py09KK",
        "colab": {
          "base_uri": "https://localhost:8080/",
          "height": 224
        },
        "outputId": "dbf02f20-3ba0-4a22-86e5-02bed0b71aa5"
      },
      "source": [
        "# Scaling pada data test\n",
        "data_test = (data_test - data_test.min()) / (data_test.max() - data_test.min())\n",
        "data_test.head(5)"
      ],
      "execution_count": 182,
      "outputs": [
        {
          "output_type": "execute_result",
          "data": {
            "text/html": [
              "<div>\n",
              "<style scoped>\n",
              "    .dataframe tbody tr th:only-of-type {\n",
              "        vertical-align: middle;\n",
              "    }\n",
              "\n",
              "    .dataframe tbody tr th {\n",
              "        vertical-align: top;\n",
              "    }\n",
              "\n",
              "    .dataframe thead th {\n",
              "        text-align: right;\n",
              "    }\n",
              "</style>\n",
              "<table border=\"1\" class=\"dataframe\">\n",
              "  <thead>\n",
              "    <tr style=\"text-align: right;\">\n",
              "      <th></th>\n",
              "      <th>KodeLokasi</th>\n",
              "      <th>SuhuMin</th>\n",
              "      <th>SuhuMax</th>\n",
              "      <th>Hujan</th>\n",
              "      <th>Penguapan</th>\n",
              "      <th>SinarMatahari</th>\n",
              "      <th>ArahAnginTerkencang</th>\n",
              "      <th>KecepatanAnginTerkencang</th>\n",
              "      <th>ArahAngin9am</th>\n",
              "      <th>ArahAngin3pm</th>\n",
              "      <th>KecepatanAngin9am</th>\n",
              "      <th>KecepatanAngin3pm</th>\n",
              "      <th>Kelembaban9am</th>\n",
              "      <th>Kelembaban3pm</th>\n",
              "      <th>Tekanan9am</th>\n",
              "      <th>Tekanan3pm</th>\n",
              "      <th>Awan9am</th>\n",
              "      <th>Awan3pm</th>\n",
              "      <th>Suhu9am</th>\n",
              "      <th>Suhu3pm</th>\n",
              "      <th>BersaljuHariIni</th>\n",
              "      <th>BersaljuBesok</th>\n",
              "    </tr>\n",
              "  </thead>\n",
              "  <tbody>\n",
              "    <tr>\n",
              "      <th>0</th>\n",
              "      <td>0.666667</td>\n",
              "      <td>0.476923</td>\n",
              "      <td>0.592885</td>\n",
              "      <td>0.00</td>\n",
              "      <td>0.571429</td>\n",
              "      <td>0.441379</td>\n",
              "      <td>1.000000</td>\n",
              "      <td>0.344828</td>\n",
              "      <td>0.866667</td>\n",
              "      <td>0.866667</td>\n",
              "      <td>0.363636</td>\n",
              "      <td>0.491228</td>\n",
              "      <td>0.377551</td>\n",
              "      <td>0.555556</td>\n",
              "      <td>0.526587</td>\n",
              "      <td>0.517625</td>\n",
              "      <td>0.500000</td>\n",
              "      <td>0.87500</td>\n",
              "      <td>0.720280</td>\n",
              "      <td>0.548193</td>\n",
              "      <td>0.0</td>\n",
              "      <td>0.0</td>\n",
              "    </tr>\n",
              "    <tr>\n",
              "      <th>1</th>\n",
              "      <td>0.583333</td>\n",
              "      <td>0.451282</td>\n",
              "      <td>0.442688</td>\n",
              "      <td>0.05</td>\n",
              "      <td>0.571429</td>\n",
              "      <td>0.526216</td>\n",
              "      <td>0.933333</td>\n",
              "      <td>0.431034</td>\n",
              "      <td>0.866667</td>\n",
              "      <td>0.466667</td>\n",
              "      <td>0.436364</td>\n",
              "      <td>0.578947</td>\n",
              "      <td>0.755102</td>\n",
              "      <td>0.313131</td>\n",
              "      <td>0.595197</td>\n",
              "      <td>0.569573</td>\n",
              "      <td>1.000000</td>\n",
              "      <td>0.12500</td>\n",
              "      <td>0.370629</td>\n",
              "      <td>0.453815</td>\n",
              "      <td>0.0</td>\n",
              "      <td>1.0</td>\n",
              "    </tr>\n",
              "    <tr>\n",
              "      <th>2</th>\n",
              "      <td>0.187500</td>\n",
              "      <td>0.430769</td>\n",
              "      <td>0.586957</td>\n",
              "      <td>0.00</td>\n",
              "      <td>0.537652</td>\n",
              "      <td>0.717241</td>\n",
              "      <td>0.733333</td>\n",
              "      <td>0.232759</td>\n",
              "      <td>0.266667</td>\n",
              "      <td>0.200000</td>\n",
              "      <td>0.236364</td>\n",
              "      <td>0.333333</td>\n",
              "      <td>0.887755</td>\n",
              "      <td>0.262626</td>\n",
              "      <td>0.622642</td>\n",
              "      <td>0.578850</td>\n",
              "      <td>0.000000</td>\n",
              "      <td>0.12500</td>\n",
              "      <td>0.445221</td>\n",
              "      <td>0.602410</td>\n",
              "      <td>0.0</td>\n",
              "      <td>0.0</td>\n",
              "    </tr>\n",
              "    <tr>\n",
              "      <th>3</th>\n",
              "      <td>0.500000</td>\n",
              "      <td>0.648718</td>\n",
              "      <td>0.583004</td>\n",
              "      <td>0.00</td>\n",
              "      <td>0.472204</td>\n",
              "      <td>0.462069</td>\n",
              "      <td>0.800000</td>\n",
              "      <td>0.250000</td>\n",
              "      <td>0.000000</td>\n",
              "      <td>0.666667</td>\n",
              "      <td>0.363636</td>\n",
              "      <td>0.263158</td>\n",
              "      <td>0.540816</td>\n",
              "      <td>0.404040</td>\n",
              "      <td>0.478559</td>\n",
              "      <td>0.447124</td>\n",
              "      <td>0.875000</td>\n",
              "      <td>0.75000</td>\n",
              "      <td>0.641026</td>\n",
              "      <td>0.604418</td>\n",
              "      <td>0.0</td>\n",
              "      <td>0.0</td>\n",
              "    </tr>\n",
              "    <tr>\n",
              "      <th>4</th>\n",
              "      <td>0.104167</td>\n",
              "      <td>0.253846</td>\n",
              "      <td>0.205534</td>\n",
              "      <td>1.00</td>\n",
              "      <td>0.571429</td>\n",
              "      <td>0.526216</td>\n",
              "      <td>0.466667</td>\n",
              "      <td>0.344828</td>\n",
              "      <td>0.866667</td>\n",
              "      <td>0.933333</td>\n",
              "      <td>0.236364</td>\n",
              "      <td>0.157895</td>\n",
              "      <td>0.979592</td>\n",
              "      <td>0.949495</td>\n",
              "      <td>0.604831</td>\n",
              "      <td>0.569222</td>\n",
              "      <td>0.556228</td>\n",
              "      <td>0.56229</td>\n",
              "      <td>0.223776</td>\n",
              "      <td>0.194779</td>\n",
              "      <td>1.0</td>\n",
              "      <td>0.0</td>\n",
              "    </tr>\n",
              "  </tbody>\n",
              "</table>\n",
              "</div>"
            ],
            "text/plain": [
              "   KodeLokasi   SuhuMin   SuhuMax  ...   Suhu3pm  BersaljuHariIni  BersaljuBesok\n",
              "0    0.666667  0.476923  0.592885  ...  0.548193              0.0            0.0\n",
              "1    0.583333  0.451282  0.442688  ...  0.453815              0.0            1.0\n",
              "2    0.187500  0.430769  0.586957  ...  0.602410              0.0            0.0\n",
              "3    0.500000  0.648718  0.583004  ...  0.604418              0.0            0.0\n",
              "4    0.104167  0.253846  0.205534  ...  0.194779              1.0            0.0\n",
              "\n",
              "[5 rows x 22 columns]"
            ]
          },
          "metadata": {
            "tags": []
          },
          "execution_count": 182
        }
      ]
    },
    {
      "cell_type": "markdown",
      "metadata": {
        "id": "VvnNhHb-Lf_8"
      },
      "source": [
        "#Testing"
      ]
    },
    {
      "cell_type": "code",
      "metadata": {
        "id": "oue5-cedJZmJ"
      },
      "source": [
        "X_train = data_train.drop(['BersaljuBesok'], axis=1)\n",
        "y_train = data_train['BersaljuBesok'].copy()"
      ],
      "execution_count": 183,
      "outputs": []
    },
    {
      "cell_type": "code",
      "metadata": {
        "id": "SBQUuaWtLH5T"
      },
      "source": [
        "X_test = data_test.drop(['BersaljuBesok'], axis=1)\n",
        "y_test = data_test['BersaljuBesok'].copy()"
      ],
      "execution_count": 184,
      "outputs": []
    },
    {
      "cell_type": "code",
      "metadata": {
        "id": "4EoqqUnhCACK"
      },
      "source": [
        "def confusion_metrics (y_test,y_pred):\n",
        "    #Showing Confusion Matrix to know True Positive, False Positive, True Negative and False Negative\n",
        "    from sklearn import metrics\n",
        "    cm = metrics.confusion_matrix(y_test, y_pred)\n",
        "\n",
        "    cm_df = pd.DataFrame(cm, \n",
        "                         columns = ['Predicted Negative', 'Predicted Positive'], \n",
        "                         index = ['Actual Negative', 'Actual Positive'])\n",
        "\n",
        "    #Assign True Positive, False Positive, True Negative and False Negative intu variable\n",
        "    TN = cm_df.loc['Actual Negative','Predicted Negative']\n",
        "    FN = cm_df.loc['Actual Positive','Predicted Negative']\n",
        "    FP = cm_df.loc['Actual Negative','Predicted Positive']\n",
        "    TP = cm_df.loc['Actual Positive','Predicted Positive']\n",
        "    \n",
        "    # Calculate Accuracy, Precission, Recall and F1 Score\n",
        "    accuracy = (cm[0,0]+cm[1,1])/(cm[0,0]+cm[1,1]+cm[0,1]+cm[1,0])\n",
        "    precision = (cm[0,0])/(cm[0,0]+cm[0,1])\n",
        "    recall = (cm[0,0])/(cm[0,0]+cm[1,0])\n",
        "    f1_score = 2*((precision*recall)/(precision+recall))\n",
        "\n",
        "    print('True Negative  : ',TN)\n",
        "    print('False Negative : ',FN)\n",
        "    print('False Positive : ',FP)\n",
        "    print('True Positive  : ',TP)\n",
        "    print('')\n",
        "    print('')\n",
        "\n",
        "    print('Accuracy = ', accuracy)\n",
        "    print('')\n",
        "    print('Precision = ', precision)\n",
        "    print('')\n",
        "    print('Recall = ', recall)\n",
        "    print('')\n",
        "    print('F1 Score = ', f1_score)\n",
        "    print('')\n",
        "    print('')\n"
      ],
      "execution_count": 185,
      "outputs": []
    },
    {
      "cell_type": "markdown",
      "metadata": {
        "id": "qFezJrQpB-Oi"
      },
      "source": [
        "##K-Nearest Neighbors"
      ]
    },
    {
      "cell_type": "code",
      "metadata": {
        "colab": {
          "base_uri": "https://localhost:8080/"
        },
        "id": "-pzjEdRVOhhF",
        "outputId": "117e21c5-0730-4433-d3f5-3baef42612fb"
      },
      "source": [
        "from sklearn.neighbors import KNeighborsClassifier\n",
        "knn = KNeighborsClassifier(n_neighbors=5)\n",
        "knn.fit(X_train, y_train)"
      ],
      "execution_count": 186,
      "outputs": [
        {
          "output_type": "execute_result",
          "data": {
            "text/plain": [
              "KNeighborsClassifier(algorithm='auto', leaf_size=30, metric='minkowski',\n",
              "                     metric_params=None, n_jobs=None, n_neighbors=5, p=2,\n",
              "                     weights='uniform')"
            ]
          },
          "metadata": {
            "tags": []
          },
          "execution_count": 186
        }
      ]
    },
    {
      "cell_type": "code",
      "metadata": {
        "id": "y8_4oHE6QbDF"
      },
      "source": [
        "y_pred_train = knn.predict(X_train)"
      ],
      "execution_count": 187,
      "outputs": []
    },
    {
      "cell_type": "code",
      "metadata": {
        "id": "SxC_LMXLQa1r"
      },
      "source": [
        "y_pred_test = knn.predict(X_test)"
      ],
      "execution_count": 188,
      "outputs": []
    },
    {
      "cell_type": "markdown",
      "metadata": {
        "id": "LXQQhHCiY6Pb"
      },
      "source": [
        "####Evaluasi"
      ]
    },
    {
      "cell_type": "code",
      "metadata": {
        "id": "Iac8rGgbQFZE",
        "colab": {
          "base_uri": "https://localhost:8080/"
        },
        "outputId": "fad3f917-fda5-423b-ba45-2ba3b00f8762"
      },
      "source": [
        "print('Training set score: {:.4f}'.format(knn.score(X_train, y_train)))\n",
        "\n",
        "print('Test set score: {:.4f}'.format(knn.score(X_test, y_test)))"
      ],
      "execution_count": 189,
      "outputs": [
        {
          "output_type": "stream",
          "text": [
            "Training set score: 0.8772\n",
            "Test set score: 0.8318\n"
          ],
          "name": "stdout"
        }
      ]
    },
    {
      "cell_type": "code",
      "metadata": {
        "id": "D_0MjjIKCJLz",
        "colab": {
          "base_uri": "https://localhost:8080/"
        },
        "outputId": "7d9e74a5-42ca-4af3-e790-c1490c2c90b9"
      },
      "source": [
        "confusion_metrics(y_test, y_pred_test)"
      ],
      "execution_count": 190,
      "outputs": [
        {
          "output_type": "stream",
          "text": [
            "True Negative  :  13119\n",
            "False Negative :  1934\n",
            "False Positive :  1124\n",
            "True Positive  :  2005\n",
            "\n",
            "\n",
            "Accuracy =  0.8318116818831812\n",
            "\n",
            "Precision =  0.9210840412834375\n",
            "\n",
            "Recall =  0.8715206271175181\n",
            "\n",
            "F1 Score =  0.895617149098853\n",
            "\n",
            "\n"
          ],
          "name": "stdout"
        }
      ]
    },
    {
      "cell_type": "markdown",
      "metadata": {
        "id": "sTT5rkxWbXUa"
      },
      "source": [
        "##Naive Bayes"
      ]
    },
    {
      "cell_type": "code",
      "metadata": {
        "colab": {
          "base_uri": "https://localhost:8080/"
        },
        "id": "0drZ-pyUbqGA",
        "outputId": "204e3d4c-880c-43e1-b240-90898b448fd0"
      },
      "source": [
        "from sklearn.naive_bayes import GaussianNB\n",
        "naive = GaussianNB().fit(X_train, y_train)\n",
        "naive.class_count_"
      ],
      "execution_count": 191,
      "outputs": [
        {
          "output_type": "execute_result",
          "data": {
            "text/plain": [
              "array([85132., 23963.])"
            ]
          },
          "metadata": {
            "tags": []
          },
          "execution_count": 191
        }
      ]
    },
    {
      "cell_type": "code",
      "metadata": {
        "id": "w6iWTmO0cKad"
      },
      "source": [
        "y_pred_train = naive.predict(X_train)"
      ],
      "execution_count": 192,
      "outputs": []
    },
    {
      "cell_type": "code",
      "metadata": {
        "id": "VWGgc0ZfUOeb"
      },
      "source": [
        "y_pred_test = naive.predict(X_test)"
      ],
      "execution_count": 193,
      "outputs": []
    },
    {
      "cell_type": "markdown",
      "metadata": {
        "id": "qFr-Wfo-cWNj"
      },
      "source": [
        "####Evaluasi"
      ]
    },
    {
      "cell_type": "code",
      "metadata": {
        "colab": {
          "base_uri": "https://localhost:8080/"
        },
        "id": "arNlfgZgcVY8",
        "outputId": "df9f3f56-6d40-41ce-9529-fd2807c3bb0f"
      },
      "source": [
        "print('Training set score: {:.4f}'.format(naive.score(X_train, y_train)))\n",
        "\n",
        "print('Test set score: {:.4f}'.format(naive.score(X_test, y_test)))"
      ],
      "execution_count": 194,
      "outputs": [
        {
          "output_type": "stream",
          "text": [
            "Training set score: 0.7847\n",
            "Test set score: 0.7660\n"
          ],
          "name": "stdout"
        }
      ]
    },
    {
      "cell_type": "code",
      "metadata": {
        "colab": {
          "base_uri": "https://localhost:8080/"
        },
        "id": "Jk3Y_PGBcbmL",
        "outputId": "8e2a3c53-e8ed-4594-f2bf-d7e0d347214a"
      },
      "source": [
        "confusion_metrics(y_test, y_pred_test)"
      ],
      "execution_count": 195,
      "outputs": [
        {
          "output_type": "stream",
          "text": [
            "True Negative  :  11165\n",
            "False Negative :  1177\n",
            "False Positive :  3078\n",
            "True Positive  :  2762\n",
            "\n",
            "\n",
            "Accuracy =  0.7659773402265977\n",
            "\n",
            "Precision =  0.7838938425893421\n",
            "\n",
            "Recall =  0.9046345811051694\n",
            "\n",
            "F1 Score =  0.8399473387248448\n",
            "\n",
            "\n"
          ],
          "name": "stdout"
        }
      ]
    },
    {
      "cell_type": "markdown",
      "metadata": {
        "id": "iWTZvDNFcmIM"
      },
      "source": [
        "##Decision Tree"
      ]
    },
    {
      "cell_type": "code",
      "metadata": {
        "colab": {
          "base_uri": "https://localhost:8080/"
        },
        "id": "gqo52cx-c0eu",
        "outputId": "a2ec13b2-0a50-4c0d-bea7-c50da7c8d237"
      },
      "source": [
        "from sklearn.tree import DecisionTreeClassifier\n",
        "decision = DecisionTreeClassifier()\n",
        "decision.fit(X_train, y_train)"
      ],
      "execution_count": 196,
      "outputs": [
        {
          "output_type": "execute_result",
          "data": {
            "text/plain": [
              "DecisionTreeClassifier(ccp_alpha=0.0, class_weight=None, criterion='gini',\n",
              "                       max_depth=None, max_features=None, max_leaf_nodes=None,\n",
              "                       min_impurity_decrease=0.0, min_impurity_split=None,\n",
              "                       min_samples_leaf=1, min_samples_split=2,\n",
              "                       min_weight_fraction_leaf=0.0, presort='deprecated',\n",
              "                       random_state=None, splitter='best')"
            ]
          },
          "metadata": {
            "tags": []
          },
          "execution_count": 196
        }
      ]
    },
    {
      "cell_type": "code",
      "metadata": {
        "id": "Vwe0zYwEdHo-"
      },
      "source": [
        "y_pred_train = decision.predict(X_train)"
      ],
      "execution_count": 197,
      "outputs": []
    },
    {
      "cell_type": "code",
      "metadata": {
        "id": "971yZAeBdHfA"
      },
      "source": [
        "y_pred_test = decision.predict(X_test)"
      ],
      "execution_count": 198,
      "outputs": []
    },
    {
      "cell_type": "markdown",
      "metadata": {
        "id": "wgjdN3VCdSaZ"
      },
      "source": [
        "####Evaluasi"
      ]
    },
    {
      "cell_type": "code",
      "metadata": {
        "colab": {
          "base_uri": "https://localhost:8080/"
        },
        "id": "-9dVnWFudVcX",
        "outputId": "16b2fd1f-bf0e-4342-e679-889fdf661d7c"
      },
      "source": [
        "print('Training set score: {:.4f}'.format(decision.score(X_train, y_train)))\n",
        "\n",
        "print('Test set score: {:.4f}'.format(decision.score(X_test, y_test)))"
      ],
      "execution_count": 199,
      "outputs": [
        {
          "output_type": "stream",
          "text": [
            "Training set score: 0.9999\n",
            "Test set score: 0.7126\n"
          ],
          "name": "stdout"
        }
      ]
    },
    {
      "cell_type": "code",
      "metadata": {
        "colab": {
          "base_uri": "https://localhost:8080/"
        },
        "id": "wh1BdC6-dYtu",
        "outputId": "e490567d-178f-40ff-e854-c870bbdbcbd2"
      },
      "source": [
        "confusion_metrics(y_test, y_pred_test)"
      ],
      "execution_count": 200,
      "outputs": [
        {
          "output_type": "stream",
          "text": [
            "True Negative  :  10571\n",
            "False Negative :  1553\n",
            "False Positive :  3672\n",
            "True Positive  :  2386\n",
            "\n",
            "\n",
            "Accuracy =  0.7126278737212628\n",
            "\n",
            "Precision =  0.7421891455451801\n",
            "\n",
            "Recall =  0.8719069613988782\n",
            "\n",
            "F1 Score =  0.8018356278681685\n",
            "\n",
            "\n"
          ],
          "name": "stdout"
        }
      ]
    },
    {
      "cell_type": "markdown",
      "metadata": {
        "id": "JUMN_sXpdhZg"
      },
      "source": [
        "##Random Forest"
      ]
    },
    {
      "cell_type": "code",
      "metadata": {
        "colab": {
          "base_uri": "https://localhost:8080/"
        },
        "id": "5pM_tHRadi3A",
        "outputId": "253b518b-c0ef-4921-a488-8c9c019c59d6"
      },
      "source": [
        "from sklearn.ensemble import RandomForestClassifier\n",
        "\n",
        "rand = RandomForestClassifier()      \n",
        "rand.fit(X_train, y_train)"
      ],
      "execution_count": 201,
      "outputs": [
        {
          "output_type": "execute_result",
          "data": {
            "text/plain": [
              "RandomForestClassifier(bootstrap=True, ccp_alpha=0.0, class_weight=None,\n",
              "                       criterion='gini', max_depth=None, max_features='auto',\n",
              "                       max_leaf_nodes=None, max_samples=None,\n",
              "                       min_impurity_decrease=0.0, min_impurity_split=None,\n",
              "                       min_samples_leaf=1, min_samples_split=2,\n",
              "                       min_weight_fraction_leaf=0.0, n_estimators=100,\n",
              "                       n_jobs=None, oob_score=False, random_state=None,\n",
              "                       verbose=0, warm_start=False)"
            ]
          },
          "metadata": {
            "tags": []
          },
          "execution_count": 201
        }
      ]
    },
    {
      "cell_type": "code",
      "metadata": {
        "id": "HWTt3oHUdx4J"
      },
      "source": [
        "y_pred_train = rand.predict(X_train)"
      ],
      "execution_count": 202,
      "outputs": []
    },
    {
      "cell_type": "code",
      "metadata": {
        "id": "UcVGa0cmdz7j"
      },
      "source": [
        "y_pred_test = rand.predict(X_test)"
      ],
      "execution_count": 203,
      "outputs": []
    },
    {
      "cell_type": "markdown",
      "metadata": {
        "id": "POSsNYWqd7Qr"
      },
      "source": [
        "####Evaluasi"
      ]
    },
    {
      "cell_type": "code",
      "metadata": {
        "colab": {
          "base_uri": "https://localhost:8080/"
        },
        "id": "AISeRlNmd8b8",
        "outputId": "3a58f813-03db-45bf-cbf4-016de24d7bdf"
      },
      "source": [
        "print('Training set score: {:.4f}'.format(rand.score(X_train, y_train)))\n",
        "\n",
        "print('Test set score: {:.4f}'.format(rand.score(X_test, y_test)))"
      ],
      "execution_count": 204,
      "outputs": [
        {
          "output_type": "stream",
          "text": [
            "Training set score: 0.9999\n",
            "Test set score: 0.8525\n"
          ],
          "name": "stdout"
        }
      ]
    },
    {
      "cell_type": "code",
      "metadata": {
        "colab": {
          "base_uri": "https://localhost:8080/"
        },
        "id": "Wg9Vt60jeEOu",
        "outputId": "68d346c1-2914-4033-84cf-9a203ac5d73c"
      },
      "source": [
        "confusion_metrics(y_test, y_pred_test)"
      ],
      "execution_count": 205,
      "outputs": [
        {
          "output_type": "stream",
          "text": [
            "True Negative  :  13199\n",
            "False Negative :  1638\n",
            "False Positive :  1044\n",
            "True Positive  :  2301\n",
            "\n",
            "\n",
            "Accuracy =  0.8524914750852491\n",
            "\n",
            "Precision =  0.9267008354981394\n",
            "\n",
            "Recall =  0.8896003235155355\n",
            "\n",
            "F1 Score =  0.9077716643741404\n",
            "\n",
            "\n"
          ],
          "name": "stdout"
        }
      ]
    },
    {
      "cell_type": "markdown",
      "metadata": {
        "id": "XirAzYmQfh56"
      },
      "source": [
        "#KESIMPULAN"
      ]
    },
    {
      "cell_type": "markdown",
      "metadata": {
        "id": "WHYQw6yIfkRu"
      },
      "source": [
        "Dari ke-4 algoritma di atas dapat kita ketahui bahwa algoritma yang paling optimal dalam melakukan klasifikasi adalah **Random Forest**."
      ]
    }
  ]
}